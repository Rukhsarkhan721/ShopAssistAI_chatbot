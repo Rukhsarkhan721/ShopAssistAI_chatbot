{
 "cells": [
  {
   "cell_type": "markdown",
   "id": "ca8c9c12",
   "metadata": {},
   "source": [
    "# ShopAssist AI"
   ]
  },
  {
   "cell_type": "markdown",
   "id": "1e064390",
   "metadata": {},
   "source": [
    "### Project Background"
   ]
  },
  {
   "cell_type": "markdown",
   "id": "aa4a3278",
   "metadata": {},
   "source": [
    "\n",
    "\n",
    "In today's digital age, online shopping has become the go-to option for many consumers.\n",
    "However, the overwhelming number of choices and the lack of personalized assistance can make the shopping experience daunting.\n",
    "To address this, we have developed **ShopAssist AI, a chatbot that combines the power of large language models and rule-based \n",
    "functions to ensure accurate and reliable information delivery**"
   ]
  },
  {
   "cell_type": "markdown",
   "id": "ce066fba",
   "metadata": {},
   "source": [
    "### Problem Statement"
   ]
  },
  {
   "cell_type": "markdown",
   "id": "88b453dc",
   "metadata": {},
   "source": [
    "We are using a dataset from Kaggle (\"https://www.kaggle.com/work/collections/14270569?privacy=public\") containing mobile phone information \n",
    "(mobile names, prices, ratings, etc.) to build a chatbot that parses the\n",
    "dataset and provides accurate mobile phone recommendations based on user \n",
    "requirements. This chatbot, named ShopAssist AI, will:\n",
    "\n",
    "- Interact with users,\n",
    "- Understand their mobile phone requirements, and\n",
    "- Recommend the most suitable phones from the dataset based on their needs and preferences.\n"
   ]
  },
  {
   "cell_type": "markdown",
   "id": "bf794e34",
   "metadata": {},
   "source": [
    "# Step 1: Import Libraries and Load The Data"
   ]
  },
  {
   "cell_type": "markdown",
   "id": "a2f5dcd3",
   "metadata": {},
   "source": [
    "##### Import the required Libraries:"
   ]
  },
  {
   "cell_type": "code",
   "execution_count": 1,
   "id": "42abd278",
   "metadata": {},
   "outputs": [],
   "source": [
    "# Import the libraries\n",
    "import pandas as pd\n",
    "from IPython.display import display, HTML\n",
    "import os, json, ast\n",
    "import openai\n",
    "from tenacity import retry, wait_random_exponential, stop_after_attempt\n",
    "import re"
   ]
  },
  {
   "cell_type": "markdown",
   "id": "ae373023",
   "metadata": {},
   "source": [
    "##### Load The Data"
   ]
  },
  {
   "cell_type": "code",
   "execution_count": 2,
   "id": "8f8c9140",
   "metadata": {},
   "outputs": [
    {
     "data": {
      "text/html": [
       "<div>\n",
       "<style scoped>\n",
       "    .dataframe tbody tr th:only-of-type {\n",
       "        vertical-align: middle;\n",
       "    }\n",
       "\n",
       "    .dataframe tbody tr th {\n",
       "        vertical-align: top;\n",
       "    }\n",
       "\n",
       "    .dataframe thead th {\n",
       "        text-align: right;\n",
       "    }\n",
       "</style>\n",
       "<table border=\"1\" class=\"dataframe\">\n",
       "  <thead>\n",
       "    <tr style=\"text-align: right;\">\n",
       "      <th></th>\n",
       "      <th>Unnamed: 0</th>\n",
       "      <th>Mobile Name</th>\n",
       "      <th>Price</th>\n",
       "      <th>Rating</th>\n",
       "      <th>RAM</th>\n",
       "      <th>Display</th>\n",
       "      <th>Camera</th>\n",
       "      <th>Battery</th>\n",
       "      <th>Processor</th>\n",
       "    </tr>\n",
       "  </thead>\n",
       "  <tbody>\n",
       "    <tr>\n",
       "      <th>0</th>\n",
       "      <td>0</td>\n",
       "      <td>realme C25_Y (Metal Grey, 64 GB)</td>\n",
       "      <td>₹10,999</td>\n",
       "      <td>4.4</td>\n",
       "      <td>4 GB RAM | 64 GB ROM</td>\n",
       "      <td>16.51 cm (6.5 inch) HD+ Display</td>\n",
       "      <td>50MP + 2MP + 2MP | 8MP Front Camera</td>\n",
       "      <td>5000 mAh LiPo Battery</td>\n",
       "      <td>Unisoc T618 Processor</td>\n",
       "    </tr>\n",
       "    <tr>\n",
       "      <th>1</th>\n",
       "      <td>1</td>\n",
       "      <td>realme C25_Y (Metal Grey, 128 GB)</td>\n",
       "      <td>₹11,999</td>\n",
       "      <td>4.4</td>\n",
       "      <td>4 GB RAM | 128 GB ROM</td>\n",
       "      <td>16.51 cm (6.5 inch) HD+ Display</td>\n",
       "      <td>50MP + 2MP + 2MP | 8MP Front Camera</td>\n",
       "      <td>5000 mAh LiPo Battery</td>\n",
       "      <td>Unisoc T618 Processor</td>\n",
       "    </tr>\n",
       "    <tr>\n",
       "      <th>2</th>\n",
       "      <td>2</td>\n",
       "      <td>realme C31 (Dark Green, 32 GB)</td>\n",
       "      <td>₹9,299</td>\n",
       "      <td>4.6</td>\n",
       "      <td>3 GB RAM | 32 GB ROM | Expandable Upto 1 TB</td>\n",
       "      <td>16.56 cm (6.52 inch) HD Display</td>\n",
       "      <td>13MP + 2MP + 0.3MP | 5MP Front Camera</td>\n",
       "      <td>5000 mAh Battery</td>\n",
       "      <td>Unisoc T612 Processor</td>\n",
       "    </tr>\n",
       "    <tr>\n",
       "      <th>3</th>\n",
       "      <td>3</td>\n",
       "      <td>realme C31 (Light Silver, 32 GB)</td>\n",
       "      <td>₹9,299</td>\n",
       "      <td>4.6</td>\n",
       "      <td>3 GB RAM | 32 GB ROM | Expandable Upto 1 TB</td>\n",
       "      <td>16.56 cm (6.52 inch) HD Display</td>\n",
       "      <td>13MP + 2MP + 0.3MP | 5MP Front Camera</td>\n",
       "      <td>5000 mAh Battery</td>\n",
       "      <td>Unisoc T612 Processor</td>\n",
       "    </tr>\n",
       "    <tr>\n",
       "      <th>4</th>\n",
       "      <td>4</td>\n",
       "      <td>realme C31 (Dark Green, 64 GB)</td>\n",
       "      <td>₹9,999</td>\n",
       "      <td>4.4</td>\n",
       "      <td>4 GB RAM | 64 GB ROM | Expandable Upto 1 TB</td>\n",
       "      <td>16.56 cm (6.52 inch) HD Display</td>\n",
       "      <td>13MP + 2MP + 0.3MP | 5MP Front Camera</td>\n",
       "      <td>5000 mAh Battery</td>\n",
       "      <td>Unisoc T612 Processor</td>\n",
       "    </tr>\n",
       "  </tbody>\n",
       "</table>\n",
       "</div>"
      ],
      "text/plain": [
       "   Unnamed: 0                        Mobile Name    Price Rating  \\\n",
       "0           0   realme C25_Y (Metal Grey, 64 GB)  ₹10,999    4.4   \n",
       "1           1  realme C25_Y (Metal Grey, 128 GB)  ₹11,999    4.4   \n",
       "2           2     realme C31 (Dark Green, 32 GB)   ₹9,299    4.6   \n",
       "3           3   realme C31 (Light Silver, 32 GB)   ₹9,299    4.6   \n",
       "4           4     realme C31 (Dark Green, 64 GB)   ₹9,999    4.4   \n",
       "\n",
       "                                           RAM                          Display  \\\n",
       "0                         4 GB RAM | 64 GB ROM  16.51 cm (6.5 inch) HD+ Display   \n",
       "1                        4 GB RAM | 128 GB ROM  16.51 cm (6.5 inch) HD+ Display   \n",
       "2  3 GB RAM | 32 GB ROM | Expandable Upto 1 TB  16.56 cm (6.52 inch) HD Display   \n",
       "3  3 GB RAM | 32 GB ROM | Expandable Upto 1 TB  16.56 cm (6.52 inch) HD Display   \n",
       "4  4 GB RAM | 64 GB ROM | Expandable Upto 1 TB  16.56 cm (6.52 inch) HD Display   \n",
       "\n",
       "                                  Camera                Battery              Processor  \n",
       "0    50MP + 2MP + 2MP | 8MP Front Camera  5000 mAh LiPo Battery  Unisoc T618 Processor  \n",
       "1    50MP + 2MP + 2MP | 8MP Front Camera  5000 mAh LiPo Battery  Unisoc T618 Processor  \n",
       "2  13MP + 2MP + 0.3MP | 5MP Front Camera       5000 mAh Battery  Unisoc T612 Processor  \n",
       "3  13MP + 2MP + 0.3MP | 5MP Front Camera       5000 mAh Battery  Unisoc T612 Processor  \n",
       "4  13MP + 2MP + 0.3MP | 5MP Front Camera       5000 mAh Battery  Unisoc T612 Processor  "
      ]
     },
     "execution_count": 2,
     "metadata": {},
     "output_type": "execute_result"
    }
   ],
   "source": [
    "\n",
    "# Set the display width to control the output width\n",
    "pd.set_option('display.width', 100)\n",
    "# Read the dataset and read the Laptop Dataset\n",
    "mobile_data = pd.read_csv('mobile_data.csv')\n",
    "mobile_data.head(5)"
   ]
  },
  {
   "cell_type": "markdown",
   "id": "a6f51641",
   "metadata": {},
   "source": [
    "# Step 2: Data Preprocessing and Cleaning"
   ]
  },
  {
   "cell_type": "code",
   "execution_count": 3,
   "id": "01f47a23",
   "metadata": {},
   "outputs": [
    {
     "name": "stdout",
     "output_type": "stream",
     "text": [
      "<class 'pandas.core.frame.DataFrame'>\n",
      "RangeIndex: 4296 entries, 0 to 4295\n",
      "Data columns (total 9 columns):\n",
      " #   Column       Non-Null Count  Dtype \n",
      "---  ------       --------------  ----- \n",
      " 0   Unnamed: 0   4296 non-null   int64 \n",
      " 1   Mobile Name  4296 non-null   object\n",
      " 2   Price        4296 non-null   object\n",
      " 3   Rating       4296 non-null   object\n",
      " 4   RAM          4296 non-null   object\n",
      " 5   Display      4296 non-null   object\n",
      " 6   Camera       4296 non-null   object\n",
      " 7   Battery      4296 non-null   object\n",
      " 8   Processor    4296 non-null   object\n",
      "dtypes: int64(1), object(8)\n",
      "memory usage: 302.2+ KB\n"
     ]
    }
   ],
   "source": [
    "mobile_data.info()"
   ]
  },
  {
   "cell_type": "code",
   "execution_count": 4,
   "id": "d81da9ae",
   "metadata": {},
   "outputs": [
    {
     "data": {
      "text/plain": [
       "Unnamed: 0     0.0\n",
       "Mobile Name    0.0\n",
       "Price          0.0\n",
       "Rating         0.0\n",
       "RAM            0.0\n",
       "Display        0.0\n",
       "Camera         0.0\n",
       "Battery        0.0\n",
       "Processor      0.0\n",
       "dtype: float64"
      ]
     },
     "execution_count": 4,
     "metadata": {},
     "output_type": "execute_result"
    }
   ],
   "source": [
    "round(100*(mobile_data.isnull().sum()/len(mobile_data.index)),2).sort_values(ascending=False)"
   ]
  },
  {
   "cell_type": "markdown",
   "id": "ab0e1395",
   "metadata": {},
   "source": [
    "- Ther are no missing values present in data set.\n"
   ]
  },
  {
   "cell_type": "markdown",
   "id": "caa01cdb",
   "metadata": {},
   "source": [
    "###### Preparing the data as per our need."
   ]
  },
  {
   "cell_type": "markdown",
   "id": "437c4e73",
   "metadata": {},
   "source": [
    "- Remove the rupees symbol from Price column. \n",
    "- Divide the RAM column into three columns to better understand the Ram size, Internal Storage and Expandable Storage.\n",
    "- Convert the Mobile_Name into three different columns Brand, Model and Color of mobile.\n",
    "- Divide the Camera column into two as Rear Camera and Front camera.\n",
    "- Extract the battery power from the battery column.\n",
    "- divide Display column into two as display size in inch and display type.\n",
    "\n",
    "\n",
    "\n"
   ]
  },
  {
   "cell_type": "code",
   "execution_count": 5,
   "id": "4fcfd823",
   "metadata": {},
   "outputs": [],
   "source": [
    "mobile_data['Price'] = mobile_data['Price'].replace('[₹,]', '', regex=True).astype(int)\n",
    "\n",
    "def parse_ram_column(ram_value):\n",
    "    parts = ram_value.split(' | ')\n",
    "    ram_size = parts[0] if len(parts) > 0 else None\n",
    "    storage = parts[1] if len(parts) > 1 else None\n",
    "    expandable_storage = None\n",
    "    if len(parts) > 2:\n",
    "        match = re.search(r'Expandable Upto (.+)', parts[2])\n",
    "        if match:\n",
    "            expandable_storage = match.group(1)\n",
    "    return ram_size, storage, expandable_storage\n",
    "\n",
    "# Apply the function to the RAM column\n",
    "mobile_data[['RAM Size', 'Storage', 'Expandable Storage']] = mobile_data['RAM'].apply(lambda x: pd.Series(parse_ram_column(x)))\n",
    "\n",
    "# Drop the original RAM column\n",
    "mobile_data.drop(columns=['RAM'], inplace=True)\n",
    "\n"
   ]
  },
  {
   "cell_type": "code",
   "execution_count": 6,
   "id": "33995c30",
   "metadata": {},
   "outputs": [],
   "source": [
    "def split_mobile_name(mobile_name):\n",
    "    try:\n",
    "        brand_model, color_storage = mobile_name.split('(', 1)\n",
    "        brand, model = brand_model.strip().split(maxsplit=1)\n",
    "        color = color_storage.split(',', 1)[0].strip()\n",
    "        return brand, model, color\n",
    "    except ValueError:\n",
    "        return None, None, None\n",
    "\n",
    "# Apply the function to the DataFrame\n",
    "mobile_data[['Brand', 'Model', 'Color']] = mobile_data['Mobile Name'].apply(lambda x: pd.Series(split_mobile_name(x)))\n",
    "\n",
    "# Drop the original Mobile Name column if no longer needed\n",
    "mobile_data = mobile_data.drop(columns=['Mobile Name'])"
   ]
  },
  {
   "cell_type": "code",
   "execution_count": 7,
   "id": "a8b6a5aa",
   "metadata": {},
   "outputs": [],
   "source": [
    "def extract_cameras(camera_value):\n",
    "    parts = camera_value.split(' | ')\n",
    "    rear_camera = parts[0] if len(parts) > 0 else None\n",
    "    front_camera = parts[1] if len(parts) > 1 else None\n",
    "    return rear_camera, front_camera\n",
    "\n",
    "# Apply the function to the Camera column\n",
    "mobile_data[['Rear Camera', 'Front Camera']] = mobile_data['Camera'].apply(lambda x: pd.Series(extract_cameras(x)))\n",
    "\n",
    "# Drop the original Camera column\n",
    "mobile_data.drop(columns=['Camera'], inplace=True)\n"
   ]
  },
  {
   "cell_type": "code",
   "execution_count": 8,
   "id": "f06964d3",
   "metadata": {},
   "outputs": [
    {
     "data": {
      "text/html": [
       "<div>\n",
       "<style scoped>\n",
       "    .dataframe tbody tr th:only-of-type {\n",
       "        vertical-align: middle;\n",
       "    }\n",
       "\n",
       "    .dataframe tbody tr th {\n",
       "        vertical-align: top;\n",
       "    }\n",
       "\n",
       "    .dataframe thead th {\n",
       "        text-align: right;\n",
       "    }\n",
       "</style>\n",
       "<table border=\"1\" class=\"dataframe\">\n",
       "  <thead>\n",
       "    <tr style=\"text-align: right;\">\n",
       "      <th></th>\n",
       "      <th>Unnamed: 0</th>\n",
       "      <th>Price</th>\n",
       "      <th>Rating</th>\n",
       "      <th>Battery</th>\n",
       "      <th>Processor</th>\n",
       "      <th>RAM Size</th>\n",
       "      <th>Storage</th>\n",
       "      <th>Expandable Storage</th>\n",
       "      <th>Brand</th>\n",
       "      <th>Model</th>\n",
       "      <th>Color</th>\n",
       "      <th>Rear Camera</th>\n",
       "      <th>Front Camera</th>\n",
       "      <th>Display Size (inch)</th>\n",
       "      <th>Display Type</th>\n",
       "    </tr>\n",
       "  </thead>\n",
       "  <tbody>\n",
       "    <tr>\n",
       "      <th>0</th>\n",
       "      <td>0</td>\n",
       "      <td>10999</td>\n",
       "      <td>4.4</td>\n",
       "      <td>5000 mAh LiPo Battery</td>\n",
       "      <td>Unisoc T618 Processor</td>\n",
       "      <td>4 GB RAM</td>\n",
       "      <td>64 GB ROM</td>\n",
       "      <td>None</td>\n",
       "      <td>realme</td>\n",
       "      <td>C25_Y</td>\n",
       "      <td>Metal Grey</td>\n",
       "      <td>50MP + 2MP + 2MP</td>\n",
       "      <td>8MP Front Camera</td>\n",
       "      <td>6.5</td>\n",
       "      <td>HD+ Display</td>\n",
       "    </tr>\n",
       "    <tr>\n",
       "      <th>1</th>\n",
       "      <td>1</td>\n",
       "      <td>11999</td>\n",
       "      <td>4.4</td>\n",
       "      <td>5000 mAh LiPo Battery</td>\n",
       "      <td>Unisoc T618 Processor</td>\n",
       "      <td>4 GB RAM</td>\n",
       "      <td>128 GB ROM</td>\n",
       "      <td>None</td>\n",
       "      <td>realme</td>\n",
       "      <td>C25_Y</td>\n",
       "      <td>Metal Grey</td>\n",
       "      <td>50MP + 2MP + 2MP</td>\n",
       "      <td>8MP Front Camera</td>\n",
       "      <td>6.5</td>\n",
       "      <td>HD+ Display</td>\n",
       "    </tr>\n",
       "    <tr>\n",
       "      <th>2</th>\n",
       "      <td>2</td>\n",
       "      <td>9299</td>\n",
       "      <td>4.6</td>\n",
       "      <td>5000 mAh Battery</td>\n",
       "      <td>Unisoc T612 Processor</td>\n",
       "      <td>3 GB RAM</td>\n",
       "      <td>32 GB ROM</td>\n",
       "      <td>1 TB</td>\n",
       "      <td>realme</td>\n",
       "      <td>C31</td>\n",
       "      <td>Dark Green</td>\n",
       "      <td>13MP + 2MP + 0.3MP</td>\n",
       "      <td>5MP Front Camera</td>\n",
       "      <td>6.52</td>\n",
       "      <td>HD Display</td>\n",
       "    </tr>\n",
       "    <tr>\n",
       "      <th>3</th>\n",
       "      <td>3</td>\n",
       "      <td>9299</td>\n",
       "      <td>4.6</td>\n",
       "      <td>5000 mAh Battery</td>\n",
       "      <td>Unisoc T612 Processor</td>\n",
       "      <td>3 GB RAM</td>\n",
       "      <td>32 GB ROM</td>\n",
       "      <td>1 TB</td>\n",
       "      <td>realme</td>\n",
       "      <td>C31</td>\n",
       "      <td>Light Silver</td>\n",
       "      <td>13MP + 2MP + 0.3MP</td>\n",
       "      <td>5MP Front Camera</td>\n",
       "      <td>6.52</td>\n",
       "      <td>HD Display</td>\n",
       "    </tr>\n",
       "    <tr>\n",
       "      <th>4</th>\n",
       "      <td>4</td>\n",
       "      <td>9999</td>\n",
       "      <td>4.4</td>\n",
       "      <td>5000 mAh Battery</td>\n",
       "      <td>Unisoc T612 Processor</td>\n",
       "      <td>4 GB RAM</td>\n",
       "      <td>64 GB ROM</td>\n",
       "      <td>1 TB</td>\n",
       "      <td>realme</td>\n",
       "      <td>C31</td>\n",
       "      <td>Dark Green</td>\n",
       "      <td>13MP + 2MP + 0.3MP</td>\n",
       "      <td>5MP Front Camera</td>\n",
       "      <td>6.52</td>\n",
       "      <td>HD Display</td>\n",
       "    </tr>\n",
       "  </tbody>\n",
       "</table>\n",
       "</div>"
      ],
      "text/plain": [
       "   Unnamed: 0  Price Rating                Battery              Processor  RAM Size     Storage  \\\n",
       "0           0  10999    4.4  5000 mAh LiPo Battery  Unisoc T618 Processor  4 GB RAM   64 GB ROM   \n",
       "1           1  11999    4.4  5000 mAh LiPo Battery  Unisoc T618 Processor  4 GB RAM  128 GB ROM   \n",
       "2           2   9299    4.6       5000 mAh Battery  Unisoc T612 Processor  3 GB RAM   32 GB ROM   \n",
       "3           3   9299    4.6       5000 mAh Battery  Unisoc T612 Processor  3 GB RAM   32 GB ROM   \n",
       "4           4   9999    4.4       5000 mAh Battery  Unisoc T612 Processor  4 GB RAM   64 GB ROM   \n",
       "\n",
       "  Expandable Storage   Brand  Model         Color         Rear Camera      Front Camera  \\\n",
       "0               None  realme  C25_Y    Metal Grey    50MP + 2MP + 2MP  8MP Front Camera   \n",
       "1               None  realme  C25_Y    Metal Grey    50MP + 2MP + 2MP  8MP Front Camera   \n",
       "2               1 TB  realme    C31    Dark Green  13MP + 2MP + 0.3MP  5MP Front Camera   \n",
       "3               1 TB  realme    C31  Light Silver  13MP + 2MP + 0.3MP  5MP Front Camera   \n",
       "4               1 TB  realme    C31    Dark Green  13MP + 2MP + 0.3MP  5MP Front Camera   \n",
       "\n",
       "  Display Size (inch) Display Type  \n",
       "0                 6.5  HD+ Display  \n",
       "1                 6.5  HD+ Display  \n",
       "2                6.52   HD Display  \n",
       "3                6.52   HD Display  \n",
       "4                6.52   HD Display  "
      ]
     },
     "execution_count": 8,
     "metadata": {},
     "output_type": "execute_result"
    }
   ],
   "source": [
    "def extract_display_size_inch(text):\n",
    "    # Extract display size in inch\n",
    "    pattern = r\"\\((\\d+\\.?\\d*) inch\\)\"\n",
    "    match = re.search(pattern, text)\n",
    "    if match:\n",
    "        return match.group(1)\n",
    "    return None\n",
    "\n",
    "def extract_display_type(text):\n",
    "    # Extract everything after the closing parenthesis\n",
    "    pattern = r\"\\) (.+)\"\n",
    "    match = re.search(pattern, text)\n",
    "    if match:\n",
    "        return match.group(1)\n",
    "    return None\n",
    "\n",
    "# Apply the functions to the Display column\n",
    "mobile_data['Display Size (inch)'] = mobile_data['Display'].apply(extract_display_size_inch)\n",
    "mobile_data['Display Type'] = mobile_data['Display'].apply(extract_display_type)\n",
    "\n",
    "# Drop the original Display column\n",
    "mobile_data.drop(columns=['Display'], inplace=True)\n",
    "\n",
    "# Display the updated DataFrame\n",
    "mobile_data.head()"
   ]
  },
  {
   "cell_type": "code",
   "execution_count": 9,
   "id": "164fc0b9",
   "metadata": {},
   "outputs": [],
   "source": [
    "# Regular expression pattern to match numbers followed by optional 'mAh'\n",
    "pattern = r\"(\\d+)(?: mAh)?\"\n",
    "\n",
    "# Define a function to extract the desired part of the string\n",
    "def extract_mah(text):\n",
    "    match = re.search(pattern, text)\n",
    "    if match:\n",
    "        return match.group()  # Return the matched group (number and optional 'mAh')\n",
    "    else:\n",
    "        return None\n",
    "\n",
    "# Apply the function to the Battery column\n",
    "mobile_data['Battery'] = mobile_data['Battery'].apply(extract_mah)"
   ]
  },
  {
   "cell_type": "code",
   "execution_count": 10,
   "id": "1ac7bf84",
   "metadata": {},
   "outputs": [],
   "source": [
    "# Drop the original Display column\n",
    "mobile_data.drop(columns=['Unnamed: 0'], inplace=True)\n"
   ]
  },
  {
   "cell_type": "code",
   "execution_count": 11,
   "id": "fa0591a2",
   "metadata": {},
   "outputs": [
    {
     "data": {
      "text/html": [
       "<div>\n",
       "<style scoped>\n",
       "    .dataframe tbody tr th:only-of-type {\n",
       "        vertical-align: middle;\n",
       "    }\n",
       "\n",
       "    .dataframe tbody tr th {\n",
       "        vertical-align: top;\n",
       "    }\n",
       "\n",
       "    .dataframe thead th {\n",
       "        text-align: right;\n",
       "    }\n",
       "</style>\n",
       "<table border=\"1\" class=\"dataframe\">\n",
       "  <thead>\n",
       "    <tr style=\"text-align: right;\">\n",
       "      <th></th>\n",
       "      <th>Price</th>\n",
       "      <th>Rating</th>\n",
       "      <th>Battery</th>\n",
       "      <th>Processor</th>\n",
       "      <th>RAM Size</th>\n",
       "      <th>Storage</th>\n",
       "      <th>Expandable Storage</th>\n",
       "      <th>Brand</th>\n",
       "      <th>Model</th>\n",
       "      <th>Color</th>\n",
       "      <th>Rear Camera</th>\n",
       "      <th>Front Camera</th>\n",
       "      <th>Display Size (inch)</th>\n",
       "      <th>Display Type</th>\n",
       "    </tr>\n",
       "  </thead>\n",
       "  <tbody>\n",
       "    <tr>\n",
       "      <th>0</th>\n",
       "      <td>10999</td>\n",
       "      <td>4.4</td>\n",
       "      <td>5000 mAh</td>\n",
       "      <td>Unisoc T618 Processor</td>\n",
       "      <td>4 GB RAM</td>\n",
       "      <td>64 GB ROM</td>\n",
       "      <td>None</td>\n",
       "      <td>realme</td>\n",
       "      <td>C25_Y</td>\n",
       "      <td>Metal Grey</td>\n",
       "      <td>50MP + 2MP + 2MP</td>\n",
       "      <td>8MP Front Camera</td>\n",
       "      <td>6.5</td>\n",
       "      <td>HD+ Display</td>\n",
       "    </tr>\n",
       "    <tr>\n",
       "      <th>1</th>\n",
       "      <td>11999</td>\n",
       "      <td>4.4</td>\n",
       "      <td>5000 mAh</td>\n",
       "      <td>Unisoc T618 Processor</td>\n",
       "      <td>4 GB RAM</td>\n",
       "      <td>128 GB ROM</td>\n",
       "      <td>None</td>\n",
       "      <td>realme</td>\n",
       "      <td>C25_Y</td>\n",
       "      <td>Metal Grey</td>\n",
       "      <td>50MP + 2MP + 2MP</td>\n",
       "      <td>8MP Front Camera</td>\n",
       "      <td>6.5</td>\n",
       "      <td>HD+ Display</td>\n",
       "    </tr>\n",
       "    <tr>\n",
       "      <th>2</th>\n",
       "      <td>9299</td>\n",
       "      <td>4.6</td>\n",
       "      <td>5000 mAh</td>\n",
       "      <td>Unisoc T612 Processor</td>\n",
       "      <td>3 GB RAM</td>\n",
       "      <td>32 GB ROM</td>\n",
       "      <td>1 TB</td>\n",
       "      <td>realme</td>\n",
       "      <td>C31</td>\n",
       "      <td>Dark Green</td>\n",
       "      <td>13MP + 2MP + 0.3MP</td>\n",
       "      <td>5MP Front Camera</td>\n",
       "      <td>6.52</td>\n",
       "      <td>HD Display</td>\n",
       "    </tr>\n",
       "    <tr>\n",
       "      <th>3</th>\n",
       "      <td>9299</td>\n",
       "      <td>4.6</td>\n",
       "      <td>5000 mAh</td>\n",
       "      <td>Unisoc T612 Processor</td>\n",
       "      <td>3 GB RAM</td>\n",
       "      <td>32 GB ROM</td>\n",
       "      <td>1 TB</td>\n",
       "      <td>realme</td>\n",
       "      <td>C31</td>\n",
       "      <td>Light Silver</td>\n",
       "      <td>13MP + 2MP + 0.3MP</td>\n",
       "      <td>5MP Front Camera</td>\n",
       "      <td>6.52</td>\n",
       "      <td>HD Display</td>\n",
       "    </tr>\n",
       "    <tr>\n",
       "      <th>4</th>\n",
       "      <td>9999</td>\n",
       "      <td>4.4</td>\n",
       "      <td>5000 mAh</td>\n",
       "      <td>Unisoc T612 Processor</td>\n",
       "      <td>4 GB RAM</td>\n",
       "      <td>64 GB ROM</td>\n",
       "      <td>1 TB</td>\n",
       "      <td>realme</td>\n",
       "      <td>C31</td>\n",
       "      <td>Dark Green</td>\n",
       "      <td>13MP + 2MP + 0.3MP</td>\n",
       "      <td>5MP Front Camera</td>\n",
       "      <td>6.52</td>\n",
       "      <td>HD Display</td>\n",
       "    </tr>\n",
       "  </tbody>\n",
       "</table>\n",
       "</div>"
      ],
      "text/plain": [
       "   Price Rating   Battery              Processor  RAM Size     Storage Expandable Storage   Brand  \\\n",
       "0  10999    4.4  5000 mAh  Unisoc T618 Processor  4 GB RAM   64 GB ROM               None  realme   \n",
       "1  11999    4.4  5000 mAh  Unisoc T618 Processor  4 GB RAM  128 GB ROM               None  realme   \n",
       "2   9299    4.6  5000 mAh  Unisoc T612 Processor  3 GB RAM   32 GB ROM               1 TB  realme   \n",
       "3   9299    4.6  5000 mAh  Unisoc T612 Processor  3 GB RAM   32 GB ROM               1 TB  realme   \n",
       "4   9999    4.4  5000 mAh  Unisoc T612 Processor  4 GB RAM   64 GB ROM               1 TB  realme   \n",
       "\n",
       "   Model         Color         Rear Camera      Front Camera Display Size (inch) Display Type  \n",
       "0  C25_Y    Metal Grey    50MP + 2MP + 2MP  8MP Front Camera                 6.5  HD+ Display  \n",
       "1  C25_Y    Metal Grey    50MP + 2MP + 2MP  8MP Front Camera                 6.5  HD+ Display  \n",
       "2    C31    Dark Green  13MP + 2MP + 0.3MP  5MP Front Camera                6.52   HD Display  \n",
       "3    C31  Light Silver  13MP + 2MP + 0.3MP  5MP Front Camera                6.52   HD Display  \n",
       "4    C31    Dark Green  13MP + 2MP + 0.3MP  5MP Front Camera                6.52   HD Display  "
      ]
     },
     "execution_count": 11,
     "metadata": {},
     "output_type": "execute_result"
    }
   ],
   "source": [
    "mobile_data.head()"
   ]
  },
  {
   "cell_type": "markdown",
   "id": "0549cf56",
   "metadata": {},
   "source": [
    "- Now check again the data types of columns and convert into a proper data type. "
   ]
  },
  {
   "cell_type": "code",
   "execution_count": 12,
   "id": "13237591",
   "metadata": {},
   "outputs": [
    {
     "name": "stdout",
     "output_type": "stream",
     "text": [
      "<class 'pandas.core.frame.DataFrame'>\n",
      "RangeIndex: 4296 entries, 0 to 4295\n",
      "Data columns (total 14 columns):\n",
      " #   Column               Non-Null Count  Dtype \n",
      "---  ------               --------------  ----- \n",
      " 0   Price                4296 non-null   int32 \n",
      " 1   Rating               4296 non-null   object\n",
      " 2   Battery              3936 non-null   object\n",
      " 3   Processor            4296 non-null   object\n",
      " 4   RAM Size             4296 non-null   object\n",
      " 5   Storage              3792 non-null   object\n",
      " 6   Expandable Storage   2745 non-null   object\n",
      " 7   Brand                3875 non-null   object\n",
      " 8   Model                3875 non-null   object\n",
      " 9   Color                3875 non-null   object\n",
      " 10  Rear Camera          4296 non-null   object\n",
      " 11  Front Camera         3588 non-null   object\n",
      " 12  Display Size (inch)  4280 non-null   object\n",
      " 13  Display Type         4293 non-null   object\n",
      "dtypes: int32(1), object(13)\n",
      "memory usage: 453.2+ KB\n"
     ]
    }
   ],
   "source": [
    "mobile_data.info()"
   ]
  },
  {
   "cell_type": "code",
   "execution_count": 13,
   "id": "00f11fd4",
   "metadata": {},
   "outputs": [],
   "source": [
    "# Convert data types\n",
    "mobile_data['Price'] = mobile_data['Price'].astype('int32')\n",
    "mobile_data['Rating'] = pd.to_numeric(mobile_data['Rating'], errors='coerce')\n",
    "mobile_data['Battery'] = pd.to_numeric(mobile_data['Battery'].str.extract('(\\d+)')[0], errors='coerce')\n",
    "mobile_data['RAM Size'] = pd.to_numeric(mobile_data['RAM Size'].str.extract('(\\d+)')[0], errors='coerce')\n",
    "mobile_data['Storage'] = pd.to_numeric(mobile_data['Storage'].str.extract('(\\d+)')[0], errors='coerce')\n",
    "mobile_data['Expandable Storage'] = pd.to_numeric(mobile_data['Expandable Storage'].str.extract('(\\d+)')[0], errors='coerce')\n",
    "mobile_data['Display Size (inch)'] = pd.to_numeric(mobile_data['Display Size (inch)'], errors='coerce')\n",
    "\n",
    "\n"
   ]
  },
  {
   "cell_type": "code",
   "execution_count": 14,
   "id": "df1218ad",
   "metadata": {},
   "outputs": [
    {
     "name": "stdout",
     "output_type": "stream",
     "text": [
      "Price                    int32\n",
      "Rating                 float64\n",
      "Battery                float64\n",
      "Processor               object\n",
      "RAM Size               float64\n",
      "Storage                float64\n",
      "Expandable Storage     float64\n",
      "Brand                   object\n",
      "Model                   object\n",
      "Color                   object\n",
      "Rear Camera             object\n",
      "Front Camera            object\n",
      "Display Size (inch)    float64\n",
      "Display Type            object\n",
      "dtype: object\n"
     ]
    }
   ],
   "source": [
    "print(mobile_data.dtypes)\n"
   ]
  },
  {
   "cell_type": "code",
   "execution_count": 15,
   "id": "b418783e",
   "metadata": {},
   "outputs": [
    {
     "data": {
      "text/plain": [
       "Expandable Storage     36.10\n",
       "Front Camera           16.48\n",
       "Storage                11.82\n",
       "Brand                   9.80\n",
       "Model                   9.80\n",
       "Color                   9.80\n",
       "Battery                 8.38\n",
       "Rating                  2.28\n",
       "Display Size (inch)     0.37\n",
       "RAM Size                0.09\n",
       "Display Type            0.07\n",
       "Price                   0.00\n",
       "Processor               0.00\n",
       "Rear Camera             0.00\n",
       "dtype: float64"
      ]
     },
     "execution_count": 15,
     "metadata": {},
     "output_type": "execute_result"
    }
   ],
   "source": [
    "round(100*(mobile_data.isnull().sum()/len(mobile_data.index)),2).sort_values(ascending=False)"
   ]
  },
  {
   "cell_type": "code",
   "execution_count": 16,
   "id": "7bd0b2c8",
   "metadata": {},
   "outputs": [],
   "source": [
    "# Replace null values in numeric columns with mean\n",
    "mobile_data['Rating'].fillna(mobile_data['Rating'].mean(), inplace=True)\n",
    "mobile_data['RAM Size'].fillna(mobile_data['RAM Size'].mean(), inplace=True)\n",
    "mobile_data['Storage'].fillna(mobile_data['Storage'].mean(), inplace=True)\n",
    "mobile_data['Expandable Storage'].fillna(mobile_data['Expandable Storage'].mean(), inplace=True)\n",
    "\n",
    "mobile_data['Display Size (inch)'].fillna(mobile_data['Display Size (inch)'].mean(), inplace=True)\n",
    "mobile_data['Battery'].fillna(mobile_data['Battery'].mean(), inplace=True)"
   ]
  },
  {
   "cell_type": "code",
   "execution_count": 17,
   "id": "44eafb8f",
   "metadata": {},
   "outputs": [],
   "source": [
    "mobile_data = mobile_data.dropna(subset=['Brand', 'Model', 'Color'])"
   ]
  },
  {
   "cell_type": "code",
   "execution_count": 18,
   "id": "9dee07c4",
   "metadata": {},
   "outputs": [],
   "source": [
    "mobile_data = mobile_data.dropna(subset=['Front Camera'])"
   ]
  },
  {
   "cell_type": "code",
   "execution_count": 19,
   "id": "f9b48014",
   "metadata": {},
   "outputs": [],
   "source": [
    "mobile_data = mobile_data.dropna(subset=['Display Type'])"
   ]
  },
  {
   "cell_type": "code",
   "execution_count": 20,
   "id": "292f487a",
   "metadata": {},
   "outputs": [
    {
     "data": {
      "text/plain": [
       "Price                  0.0\n",
       "Rating                 0.0\n",
       "Battery                0.0\n",
       "Processor              0.0\n",
       "RAM Size               0.0\n",
       "Storage                0.0\n",
       "Expandable Storage     0.0\n",
       "Brand                  0.0\n",
       "Model                  0.0\n",
       "Color                  0.0\n",
       "Rear Camera            0.0\n",
       "Front Camera           0.0\n",
       "Display Size (inch)    0.0\n",
       "Display Type           0.0\n",
       "dtype: float64"
      ]
     },
     "execution_count": 20,
     "metadata": {},
     "output_type": "execute_result"
    }
   ],
   "source": [
    "round(100*(mobile_data.isnull().sum()/len(mobile_data.index)),2).sort_values(ascending=False)"
   ]
  },
  {
   "cell_type": "code",
   "execution_count": 21,
   "id": "7f5617d4",
   "metadata": {},
   "outputs": [
    {
     "data": {
      "text/html": [
       "<div>\n",
       "<style scoped>\n",
       "    .dataframe tbody tr th:only-of-type {\n",
       "        vertical-align: middle;\n",
       "    }\n",
       "\n",
       "    .dataframe tbody tr th {\n",
       "        vertical-align: top;\n",
       "    }\n",
       "\n",
       "    .dataframe thead th {\n",
       "        text-align: right;\n",
       "    }\n",
       "</style>\n",
       "<table border=\"1\" class=\"dataframe\">\n",
       "  <thead>\n",
       "    <tr style=\"text-align: right;\">\n",
       "      <th></th>\n",
       "      <th>Price</th>\n",
       "      <th>Rating</th>\n",
       "      <th>Battery</th>\n",
       "      <th>Processor</th>\n",
       "      <th>RAM Size</th>\n",
       "      <th>Storage</th>\n",
       "      <th>Expandable Storage</th>\n",
       "      <th>Brand</th>\n",
       "      <th>Model</th>\n",
       "      <th>Color</th>\n",
       "      <th>Rear Camera</th>\n",
       "      <th>Front Camera</th>\n",
       "      <th>Display Size (inch)</th>\n",
       "      <th>Display Type</th>\n",
       "    </tr>\n",
       "  </thead>\n",
       "  <tbody>\n",
       "    <tr>\n",
       "      <th>0</th>\n",
       "      <td>10999</td>\n",
       "      <td>4.4</td>\n",
       "      <td>5000.0</td>\n",
       "      <td>Unisoc T618 Processor</td>\n",
       "      <td>4.0</td>\n",
       "      <td>64.0</td>\n",
       "      <td>183.128597</td>\n",
       "      <td>realme</td>\n",
       "      <td>C25_Y</td>\n",
       "      <td>Metal Grey</td>\n",
       "      <td>50MP + 2MP + 2MP</td>\n",
       "      <td>8MP Front Camera</td>\n",
       "      <td>6.5</td>\n",
       "      <td>HD+ Display</td>\n",
       "    </tr>\n",
       "    <tr>\n",
       "      <th>1</th>\n",
       "      <td>11999</td>\n",
       "      <td>4.4</td>\n",
       "      <td>5000.0</td>\n",
       "      <td>Unisoc T618 Processor</td>\n",
       "      <td>4.0</td>\n",
       "      <td>128.0</td>\n",
       "      <td>183.128597</td>\n",
       "      <td>realme</td>\n",
       "      <td>C25_Y</td>\n",
       "      <td>Metal Grey</td>\n",
       "      <td>50MP + 2MP + 2MP</td>\n",
       "      <td>8MP Front Camera</td>\n",
       "      <td>6.5</td>\n",
       "      <td>HD+ Display</td>\n",
       "    </tr>\n",
       "  </tbody>\n",
       "</table>\n",
       "</div>"
      ],
      "text/plain": [
       "   Price  Rating  Battery              Processor  RAM Size  Storage  Expandable Storage   Brand  \\\n",
       "0  10999     4.4   5000.0  Unisoc T618 Processor       4.0     64.0          183.128597  realme   \n",
       "1  11999     4.4   5000.0  Unisoc T618 Processor       4.0    128.0          183.128597  realme   \n",
       "\n",
       "   Model       Color       Rear Camera      Front Camera  Display Size (inch) Display Type  \n",
       "0  C25_Y  Metal Grey  50MP + 2MP + 2MP  8MP Front Camera                  6.5  HD+ Display  \n",
       "1  C25_Y  Metal Grey  50MP + 2MP + 2MP  8MP Front Camera                  6.5  HD+ Display  "
      ]
     },
     "execution_count": 21,
     "metadata": {},
     "output_type": "execute_result"
    }
   ],
   "source": [
    "mobile_data.head(2)"
   ]
  },
  {
   "cell_type": "markdown",
   "id": "e5ece317",
   "metadata": {},
   "source": [
    "# Step 3: System Design"
   ]
  },
  {
   "cell_type": "markdown",
   "id": "40ace3af",
   "metadata": {},
   "source": [
    "###### Approch:"
   ]
  },
  {
   "cell_type": "markdown",
   "id": "a0813cb6",
   "metadata": {},
   "source": [
    "1. **Conversation and Information Gathering**: The chatbot will utilize language models to understand and generate natural responses. Through a conversational flow, it will ask relevant questions to gather information about the user's requirements.\n",
    "2. **Information Extraction**: Once the essential information is collected, rule-based functions come into play, extracting top 3 laptops that best matches the user's needs.\n",
    "3. **Personalized Recommendation**: Leveraging this extracted information, the chatbot engages in further dialogue with the user, efficiently addressing their queries and aiding them in finding the perfect laptop solution."
   ]
  },
  {
   "cell_type": "markdown",
   "id": "4347b673",
   "metadata": {},
   "source": [
    "### Dataset"
   ]
  },
  {
   "cell_type": "markdown",
   "id": "b0d9f151",
   "metadata": {},
   "source": [
    "We have a dataset `mobile_data.csv` where  each row describes the features of a single mobile phone\n",
    "and we also add a one Feature column in the data set at the end. The chatbot that we build will leverage \n",
    "LLMs to parse this `Feature` column and provide recommendations."
   ]
  },
  {
   "cell_type": "markdown",
   "id": "edac5b93",
   "metadata": {},
   "source": [
    "#### Workings of the Chatbot"
   ]
  },
  {
   "cell_type": "markdown",
   "id": "c16b91da",
   "metadata": {},
   "source": [
    "**Note1** - Don't run this when you go through this section for the first time. Run this only after running through the rest of the code. When going through this for the first time, please only go through the output, to understand the workings of the chatbot\n",
    "\n",
    "**Note2** - The conversation shown here might be different from what you see in the video. However, the overall structure of the conversation to understand the system design remains the same."
   ]
  },
  {
   "cell_type": "code",
   "execution_count": 22,
   "id": "e3342a44",
   "metadata": {},
   "outputs": [],
   "source": [
    "# RUN THIS ONCE ALL THE FUNCTION LAYERS HAVE BEEN DEFINED\n",
    "#dialogue_mgmt_system()"
   ]
  },
  {
   "cell_type": "markdown",
   "id": "6825d05d",
   "metadata": {},
   "source": [
    "#### Building the Chatbot"
   ]
  },
  {
   "attachments": {
    "image.png": {
     "image/png": "[encoded data removed]"
    }
   },
   "cell_type": "markdown",
   "id": "212bd77b",
   "metadata": {},
   "source": [
    "\n",
    "\n",
    "- Now let's go ahead and understand the system design for the chatbot.\n",
    "![image.png](attachment:image.png)\n",
    "\n"
   ]
  },
  {
   "cell_type": "markdown",
   "id": "448ee665",
   "metadata": {},
   "source": [
    "`Stage 1`\n",
    "\n",
    "- Intent Clarity Layer\n",
    "- Intent Confirmation Layer\n",
    "\n",
    "`Stage 2`\n",
    "\n",
    "- Product Mapping Layer\n",
    "- Product Information Extraction Layer\n",
    "\n",
    "`Stage 3`\n",
    "\n",
    "- Product Recommendation Layer"
   ]
  },
  {
   "attachments": {
    "image.png": {
     "image/png": "[encoded data removed]"
    }
   },
   "cell_type": "markdown",
   "id": "e9da763b",
   "metadata": {},
   "source": [
    "![image.png](attachment:image.png)"
   ]
  },
  {
   "cell_type": "markdown",
   "id": "d4cce862",
   "metadata": {},
   "source": [
    "#### Major functions behind the Chatbot"
   ]
  },
  {
   "cell_type": "markdown",
   "id": "a1b0bb4f",
   "metadata": {},
   "source": [
    "\n",
    "\n",
    "Let's now look at a brief overview of the major functions that form the chatbot. We'll take a deep dive later\n",
    "\n",
    "\n",
    "\n",
    "- `initialize_conversation()`: This initializes the variable conversation with the system message.\n",
    "- `get_chat_completions()`: This takes the ongoing conversation as the input and returns the response by the assistant\n",
    "- `moderation_check()`: This checks if the user's or the assistant's message is inappropriate. If any of these is inappropriate, it ends the conversation.\n",
    "- `intent_confirmation_layer()`: This function takes the assistant's response and evaluates if the chatbot has captured the user's profile clearly. Specifically, this checks if the following properties for the user has been captured or not Ram, Storage, Rating, Display size, Rear Camera,Front Camera, Battery Life and Budget.\n",
    "- `dictionary_present()`: This function checks if the final understanding of user's profile is returned by the chatbot as a python dictionary or not. If there is a dictionary, it extracts the information as a Python dictionary.\n",
    "- `compare_mobiles_with_user()`: This function compares the user's profile with the different mobiles and come back with the top 3 recommendations.\n",
    "- `initialize_conv_reco()`: Initializes the recommendations conversation"
   ]
  },
  {
   "cell_type": "markdown",
   "id": "7c653af7",
   "metadata": {},
   "source": [
    "In the next sections, we will look at how to write the code for the above functions."
   ]
  },
  {
   "cell_type": "markdown",
   "id": "fc3542e0",
   "metadata": {},
   "source": [
    "## Step 4: Implementation"
   ]
  },
  {
   "cell_type": "markdown",
   "id": "c4e3fa39",
   "metadata": {},
   "source": [
    "## Stage 1"
   ]
  },
  {
   "cell_type": "markdown",
   "id": "2f676d79",
   "metadata": {},
   "source": [
    "- Stage 1 Flowchart"
   ]
  },
  {
   "attachments": {
    "image.png": {
     "image/png": "[encoded data removed]"
    }
   },
   "cell_type": "markdown",
   "id": "b4610b11",
   "metadata": {},
   "source": [
    "![image.png](attachment:image.png)"
   ]
  },
  {
   "cell_type": "markdown",
   "id": "da512bf7",
   "metadata": {},
   "source": [
    "Let's start the project with api key."
   ]
  },
  {
   "cell_type": "markdown",
   "id": "cf5885ff",
   "metadata": {},
   "source": [
    "Note: Before proceeding, ensure you have your OpenAI API key. This key is necessary for the chatbot to make calls to the OpenAI API. Insert your API key in the designated area in the code."
   ]
  },
  {
   "cell_type": "code",
   "execution_count": 23,
   "id": "12115211",
   "metadata": {},
   "outputs": [
    {
     "name": "stdout",
     "output_type": "stream",
     "text": [
      "Overwriting config.py\n"
     ]
    }
   ],
   "source": [
    "%%writefile \"config.py\"\n",
    "api_key = \"sk-pro\""
   ]
  },
  {
   "cell_type": "code",
   "execution_count": 24,
   "id": "ded4df26",
   "metadata": {},
   "outputs": [],
   "source": [
    "openai.api_key =\"sk-pro\""
   ]
  },
  {
   "cell_type": "code",
   "execution_count": 25,
   "id": "680f3942",
   "metadata": {},
   "outputs": [],
   "source": [
    "from config import api_key\n",
    "# assign api_key\n",
    "openai.api_key = api_key\n",
    "os.environ[\"OPENAI_API_KEY\"] = api_key"
   ]
  },
  {
   "cell_type": "markdown",
   "id": "7e020c4a",
   "metadata": {},
   "source": [
    "### 3.2 - Implementing Intent Clarity and Intent Confirmation Layers\n",
    "\n",
    "Let's start with the first part of the implementation - building the `intent clarity` and `intent confirmation` layers. As mentioned earlier, this layer helps in identifying the user requirements and passing it on to the product matching layer. Here are the functions that we would be using for building these layers:\n",
    "\n",
    "- `initialize_conversation()`"
   ]
  },
  {
   "cell_type": "markdown",
   "id": "42f7fef1",
   "metadata": {},
   "source": [
    "### `initialize_conversation()`:\n",
    "This initializes the variable conversation with the system message. Using prompt engineering and chain of thought reasoning, the function will enable the chatbot to keep asking questions until the user requirements have been captured in a dictionary. It also includes Few Shot Prompting(sample conversation between the user and assistant) to align the model about user and assistant responses at each step."
   ]
  },
  {
   "cell_type": "markdown",
   "id": "08b1002d",
   "metadata": {},
   "source": [
    "```\n",
    "def initialize_conversation():\n",
    "    '''\n",
    "    Initializes a conversation for an intelligent mobile phone expert system.\n",
    "\n",
    "    Returns:\n",
    "        list: [{\"role\": \"system\", \"content\": system_message}]\n",
    "        A list containing a dictionary representing the system's initial message.\n",
    "        \n",
    "    The function initiates a conversation with the user, providing guidance on how to interact effectively. The initial message outlines the purpose, instructions for completing a user profile, and examples to demonstrate the interaction.\n",
    "\n",
    "The system expects the user to provide details related to their mobile phone preferences, such as budget, rating, RAM size, storage, rear camera, front camera, display size (inch), and battery. This information is used to update a dictionary representing the user's preferences, ensuring accurate recommendations.\n",
    "\n",
    "The conversation flow consists of three main steps:\n",
    "\n",
    "Understanding User Preferences: Gathering and filling confident values based on user input.\n",
    "Completing the Profile: Using gathered information to fill in remaining preferences.\n",
    "Confirmation: Verifying the updated dictionary to ensure it accurately reflects the user's needs.\n",
    "Users are encouraged to engage meaningfully to ensure their profile is well-represented, allowing for tailored recommendations for the best mobile phone choices.\n",
    "\n",
    "    Usage:\n",
    "        # Initialise the conversation\n",
    "        conversation = initialize_conversation()\n",
    "        # Print the conversation\n",
    "        print(conversation)\n",
    "    '''\n",
    "    ```"
   ]
  },
  {
   "cell_type": "code",
   "execution_count": 26,
   "id": "2a63e905",
   "metadata": {},
   "outputs": [],
   "source": [
    "def initialize_conversation():\n",
    "    '''\n",
    "    Returns a list [{\"role\": \"system\", \"content\": system_message}]\n",
    "    '''\n",
    "\n",
    "    delimiter = \"####\"\n",
    "\n",
    "    customer_requirements_dict = {\n",
    "        'Budget': 12000,  # Example budget in your local currency\n",
    "        'Rating': 'high',   # Example preferred rating ('high', 'medium', 'low')\n",
    "        'RAM Size': 4,   # Example minimum RAM size requirement in GB\n",
    "        'Storage': 64,   # Example minimum internal storage requirement in GB\n",
    "        'Rear Camera': 'high',  # Example preferred rear camera quality ('high', 'medium', 'low')\n",
    "        'Front Camera': 'high',  # Example preferred front camera quality ('high', 'medium', 'low')\n",
    "        'Display Size (inch)': 6.5,  # Example preferred minimum screen size in inches\n",
    "        'Battery Life': 'long' # Example preferred battery life ('long', 'medium', 'short')\n",
    "    }\n",
    "\n",
    "    customer_requirements = {\n",
    "        'Budget': \"-\",  # Example budget in your local currency\n",
    "        'Rating': \"-\",   # Example preferred rating ('high', 'medium', 'low')\n",
    "        'RAM Size': \"-\",   # Example minimum RAM size requirement in GB\n",
    "        'Storage': \"-\",   # Example minimum internal storage requirement in GB\n",
    "        'Rear Camera': \"-\",  # Example preferred rear camera quality ('high', 'medium', 'low')\n",
    "        'Front Camera': \"-\",  # Example preferred front camera quality ('high', 'medium', 'low')\n",
    "        'Display Size (inch)':\"-\",  # Example preferred minimum screen size in inches\n",
    "        'Battery Life': \"-\" # Example preferred battery life ('long', 'medium', 'short')\n",
    "    }\n",
    "\n",
    "    system_message = f\"\"\"\n",
    "    You are an intelligent mobile gadget expert and your goal is to find the best mobile phone for a user.\n",
    "    You need to ask relevant questions and understand the user's profile by analyzing the user's responses. \n",
    "    Your final objective is to fill the values for the different keys in the Python dictionary and be confident of the values.\n",
    "    These key-value pairs define the user's profile.\n",
    "    {delimiter}\n",
    "    The Python dictionary looks like this:\n",
    "    {{\n",
    "        'Budget': {customer_requirements['Budget']},\n",
    "        'Rating': {customer_requirements['Rating']},\n",
    "        'RAM Size': {customer_requirements['RAM Size']},\n",
    "        'Storage': {customer_requirements['Storage']},\n",
    "        'Rear Camera': {customer_requirements['Rear Camera']},\n",
    "        'Front Camera': {customer_requirements['Front Camera']},\n",
    "        'Display Size (inch)': {customer_requirements['Display Size (inch)']},\n",
    "        'Battery Life': {customer_requirements['Battery Life']}\n",
    "    }}\n",
    "    {delimiter}\n",
    "    The values for 'Battery Life' should be 'long' , 'short', 'medium' based on the importance of user's mobile usage.\n",
    "    The values for 'Rear Camera' and 'Front Camera' should be 'low', 'medium', or 'high' based on the importance of camera \n",
    "    quality to the user. All the values in the example dictionary are only representative values.\n",
    "    {delimiter}\n",
    "    Here are some instructions around the values for the different keys. If you do not follow this, you'll be heavily penalized:\n",
    "    - The values for 'Budget', 'RAM Size', 'Storage', and 'Display Size (inch)' should be numerical values extracted from the\n",
    "    user's response.\n",
    "    - 'Budget' should be greater than or equal to 1000. If the user mentions less than that, please inform them that there are\n",
    "    no mobile phones in that range.\n",
    "    - Do not randomly assign values to any of the keys.\n",
    "    - The values need to be inferred from the user's response.\n",
    "    {delimiter}\n",
    "\n",
    "    To fill the dictionary, you need to have the following chain of thoughts:\n",
    "    Follow the chain-of-thoughts below and only output the final updated Python dictionary for the keys as described in the example_user_req.\n",
    "    {delimiter}\n",
    "    Thought 1: Ask a question to understand the user's requirements. If their primary requirements for the mobile phone are\n",
    "    unclear, ask follow-up questions to understand their needs. You are trying to fill the values of all the keys\n",
    "    {{'Rear Camera', 'Front Camera', 'Rating', 'RAM Size', 'Storage', 'Display Size (inch)', 'Battery Life','Budget'}} in the Python dictionary by understanding the user requirements. Identify the keys for which you can fill the values confidently using the understanding. Remember the instructions around the values for the different keys. If the necessary information has been extracted, only then proceed to the next step. Otherwise, rephrase the question to capture their profile clearly.\n",
    "    {delimiter}\n",
    "    Thought 2: Now, you are trying to fill the values for the rest of the keys which you couldn't in the previous step. \n",
    "    Remember the instructions around the values for the different keys. Ask questions you might have for all the keys to\n",
    "    strengthen your understanding of the user's profile. If yes, move to the next Thought. If no, ask questions on the keys\n",
    "    whose values you are unsure of. It is a good practice to ask questions with sound logic as opposed to directly citing the \n",
    "    key you want to understand the value for.\n",
    "    {delimiter}\n",
    "    Thought 3: Check if you have correctly updated the values for the different keys in the Python dictionary. \n",
    "    If you are not confident about any of the values, ask clarifying questions.\n",
    "    {delimiter}\n",
    "\n",
    "    Here is a sample conversation between the user and assistant:\n",
    "    User: \"Hi, I need a new mobile phone.\"\n",
    "    Assistant: \"Hello! I'd be happy to help you find the perfect mobile phone. To start, could you tell me a bit about how you use your phone? For example, do you use it more for photography, gaming, or everyday tasks?\"\n",
    "    User: \"I mostly use it for photography and social media.\"\n",
    "    Assistant: \"Great! Since you prioritize photography, we'll focus on phones with good camera quality. Could you let me know your preferences for rear and front camera quality? Do you have a preference for a specific brand or any other features?\"\n",
    "    User: \"I prefer high quality for both rear and front cameras, and I like to use Samsung phones.\"\n",
    "    Assistant: \"Got it. High camera quality and a preference for Samsung. What about the other features like RAM size, storage capacity, and battery life? Do you have any specific requirements or preferences for those?\"\n",
    "    User: \"I need at least 4GB of RAM and 64GB of storage. For battery, I prefer a high battery life.\"\n",
    "    Assistant: \"Thanks for the details. One last thing: what's your budget for the new phone?\"\n",
    "    User: \"My budget is around 20000.\"\n",
    "    Assistant: \"{customer_requirements}\"\n",
    "    {delimiter}\n",
    "\n",
    "    Start with a short welcome message and encourage the user to share their requirements.\n",
    "    \"\"\"\n",
    "\n",
    "    conversation = [{\"role\": \"system\", \"content\": system_message}]\n",
    "    return conversation"
   ]
  },
  {
   "cell_type": "code",
   "execution_count": 27,
   "id": "6ac3b941",
   "metadata": {},
   "outputs": [
    {
     "name": "stdout",
     "output_type": "stream",
     "text": [
      "[{'role': 'system', 'content': '\\n    You are an intelligent mobile gadget expert and your goal is to find the best mobile phone for a user.\\n    You need to ask relevant questions and understand the user\\'s profile by analyzing the user\\'s responses. \\n    Your final objective is to fill the values for the different keys in the Python dictionary and be confident of the values.\\n    These key-value pairs define the user\\'s profile.\\n    ####\\n    The Python dictionary looks like this:\\n    {\\n        \\'Budget\\': -,\\n        \\'Rating\\': -,\\n        \\'RAM Size\\': -,\\n        \\'Storage\\': -,\\n        \\'Rear Camera\\': -,\\n        \\'Front Camera\\': -,\\n        \\'Display Size (inch)\\': -,\\n        \\'Battery Life\\': -\\n    }\\n    ####\\n    The values for \\'Battery Life\\' should be \\'long\\' , \\'short\\', \\'medium\\' based on the importance of user\\'s mobile usage.\\n    The values for \\'Rear Camera\\' and \\'Front Camera\\' should be \\'low\\', \\'medium\\', or \\'high\\' based on the importance of camera \\n    quality to the user. All the values in the example dictionary are only representative values.\\n    ####\\n    Here are some instructions around the values for the different keys. If you do not follow this, you\\'ll be heavily penalized:\\n    - The values for \\'Budget\\', \\'RAM Size\\', \\'Storage\\', and \\'Display Size (inch)\\' should be numerical values extracted from the\\n    user\\'s response.\\n    - \\'Budget\\' should be greater than or equal to 1000. If the user mentions less than that, please inform them that there are\\n    no mobile phones in that range.\\n    - Do not randomly assign values to any of the keys.\\n    - The values need to be inferred from the user\\'s response.\\n    ####\\n\\n    To fill the dictionary, you need to have the following chain of thoughts:\\n    Follow the chain-of-thoughts below and only output the final updated Python dictionary for the keys as described in the example_user_req.\\n    ####\\n    Thought 1: Ask a question to understand the user\\'s requirements. If their primary requirements for the mobile phone are\\n    unclear, ask follow-up questions to understand their needs. You are trying to fill the values of all the keys\\n    {\\'Rear Camera\\', \\'Front Camera\\', \\'Rating\\', \\'RAM Size\\', \\'Storage\\', \\'Display Size (inch)\\', \\'Battery Life\\',\\'Budget\\'} in the Python dictionary by understanding the user requirements. Identify the keys for which you can fill the values confidently using the understanding. Remember the instructions around the values for the different keys. If the necessary information has been extracted, only then proceed to the next step. Otherwise, rephrase the question to capture their profile clearly.\\n    ####\\n    Thought 2: Now, you are trying to fill the values for the rest of the keys which you couldn\\'t in the previous step. \\n    Remember the instructions around the values for the different keys. Ask questions you might have for all the keys to\\n    strengthen your understanding of the user\\'s profile. If yes, move to the next Thought. If no, ask questions on the keys\\n    whose values you are unsure of. It is a good practice to ask questions with sound logic as opposed to directly citing the \\n    key you want to understand the value for.\\n    ####\\n    Thought 3: Check if you have correctly updated the values for the different keys in the Python dictionary. \\n    If you are not confident about any of the values, ask clarifying questions.\\n    ####\\n\\n    Here is a sample conversation between the user and assistant:\\n    User: \"Hi, I need a new mobile phone.\"\\n    Assistant: \"Hello! I\\'d be happy to help you find the perfect mobile phone. To start, could you tell me a bit about how you use your phone? For example, do you use it more for photography, gaming, or everyday tasks?\"\\n    User: \"I mostly use it for photography and social media.\"\\n    Assistant: \"Great! Since you prioritize photography, we\\'ll focus on phones with good camera quality. Could you let me know your preferences for rear and front camera quality? Do you have a preference for a specific brand or any other features?\"\\n    User: \"I prefer high quality for both rear and front cameras, and I like to use Samsung phones.\"\\n    Assistant: \"Got it. High camera quality and a preference for Samsung. What about the other features like RAM size, storage capacity, and battery life? Do you have any specific requirements or preferences for those?\"\\n    User: \"I need at least 4GB of RAM and 64GB of storage. For battery, I prefer a high battery life.\"\\n    Assistant: \"Thanks for the details. One last thing: what\\'s your budget for the new phone?\"\\n    User: \"My budget is around 20000.\"\\n    Assistant: \"{\\'Budget\\': \\'-\\', \\'Rating\\': \\'-\\', \\'RAM Size\\': \\'-\\', \\'Storage\\': \\'-\\', \\'Rear Camera\\': \\'-\\', \\'Front Camera\\': \\'-\\', \\'Display Size (inch)\\': \\'-\\', \\'Battery Life\\': \\'-\\'}\"\\n    ####\\n\\n    Start with a short welcome message and encourage the user to share their requirements.\\n    '}]\n"
     ]
    }
   ],
   "source": [
    "debug_conversation = initialize_conversation()\n",
    "print(debug_conversation)"
   ]
  },
  {
   "cell_type": "code",
   "execution_count": 28,
   "id": "94362411",
   "metadata": {
    "scrolled": true
   },
   "outputs": [
    {
     "name": "stdout",
     "output_type": "stream",
     "text": [
      "\n",
      "    You are an intelligent mobile gadget expert and your goal is to find the best mobile phone for a user.\n",
      "    You need to ask relevant questions and understand the user's profile by analyzing the user's responses. \n",
      "    Your final objective is to fill the values for the different keys in the Python dictionary and be confident of the values.\n",
      "    These key-value pairs define the user's profile.\n",
      "    ####\n",
      "    The Python dictionary looks like this:\n",
      "    {\n",
      "        'Budget': -,\n",
      "        'Rating': -,\n",
      "        'RAM Size': -,\n",
      "        'Storage': -,\n",
      "        'Rear Camera': -,\n",
      "        'Front Camera': -,\n",
      "        'Display Size (inch)': -,\n",
      "        'Battery Life': -\n",
      "    }\n",
      "    ####\n",
      "    The values for 'Battery Life' should be 'long' , 'short', 'medium' based on the importance of user's mobile usage.\n",
      "    The values for 'Rear Camera' and 'Front Camera' should be 'low', 'medium', or 'high' based on the importance of camera \n",
      "    quality to the user. All the values in the example dictionary are only representative values.\n",
      "    ####\n",
      "    Here are some instructions around the values for the different keys. If you do not follow this, you'll be heavily penalized:\n",
      "    - The values for 'Budget', 'RAM Size', 'Storage', and 'Display Size (inch)' should be numerical values extracted from the\n",
      "    user's response.\n",
      "    - 'Budget' should be greater than or equal to 1000. If the user mentions less than that, please inform them that there are\n",
      "    no mobile phones in that range.\n",
      "    - Do not randomly assign values to any of the keys.\n",
      "    - The values need to be inferred from the user's response.\n",
      "    ####\n",
      "\n",
      "    To fill the dictionary, you need to have the following chain of thoughts:\n",
      "    Follow the chain-of-thoughts below and only output the final updated Python dictionary for the keys as described in the example_user_req.\n",
      "    ####\n",
      "    Thought 1: Ask a question to understand the user's requirements. If their primary requirements for the mobile phone are\n",
      "    unclear, ask follow-up questions to understand their needs. You are trying to fill the values of all the keys\n",
      "    {'Rear Camera', 'Front Camera', 'Rating', 'RAM Size', 'Storage', 'Display Size (inch)', 'Battery Life','Budget'} in the Python dictionary by understanding the user requirements. Identify the keys for which you can fill the values confidently using the understanding. Remember the instructions around the values for the different keys. If the necessary information has been extracted, only then proceed to the next step. Otherwise, rephrase the question to capture their profile clearly.\n",
      "    ####\n",
      "    Thought 2: Now, you are trying to fill the values for the rest of the keys which you couldn't in the previous step. \n",
      "    Remember the instructions around the values for the different keys. Ask questions you might have for all the keys to\n",
      "    strengthen your understanding of the user's profile. If yes, move to the next Thought. If no, ask questions on the keys\n",
      "    whose values you are unsure of. It is a good practice to ask questions with sound logic as opposed to directly citing the \n",
      "    key you want to understand the value for.\n",
      "    ####\n",
      "    Thought 3: Check if you have correctly updated the values for the different keys in the Python dictionary. \n",
      "    If you are not confident about any of the values, ask clarifying questions.\n",
      "    ####\n",
      "\n",
      "    Here is a sample conversation between the user and assistant:\n",
      "    User: \"Hi, I need a new mobile phone.\"\n",
      "    Assistant: \"Hello! I'd be happy to help you find the perfect mobile phone. To start, could you tell me a bit about how you use your phone? For example, do you use it more for photography, gaming, or everyday tasks?\"\n",
      "    User: \"I mostly use it for photography and social media.\"\n",
      "    Assistant: \"Great! Since you prioritize photography, we'll focus on phones with good camera quality. Could you let me know your preferences for rear and front camera quality? Do you have a preference for a specific brand or any other features?\"\n",
      "    User: \"I prefer high quality for both rear and front cameras, and I like to use Samsung phones.\"\n",
      "    Assistant: \"Got it. High camera quality and a preference for Samsung. What about the other features like RAM size, storage capacity, and battery life? Do you have any specific requirements or preferences for those?\"\n",
      "    User: \"I need at least 4GB of RAM and 64GB of storage. For battery, I prefer a high battery life.\"\n",
      "    Assistant: \"Thanks for the details. One last thing: what's your budget for the new phone?\"\n",
      "    User: \"My budget is around 20000.\"\n",
      "    Assistant: \"{'Budget': '-', 'Rating': '-', 'RAM Size': '-', 'Storage': '-', 'Rear Camera': '-', 'Front Camera': '-', 'Display Size (inch)': '-', 'Battery Life': '-'}\"\n",
      "    ####\n",
      "\n",
      "    Start with a short welcome message and encourage the user to share their requirements.\n",
      "    \n"
     ]
    }
   ],
   "source": [
    "# Let's look at the content in the debug_conversation key\n",
    "print(debug_conversation[0]['content'])"
   ]
  },
  {
   "cell_type": "code",
   "execution_count": 29,
   "id": "dc771d91",
   "metadata": {},
   "outputs": [
    {
     "name": "stdout",
     "output_type": "stream",
     "text": [
      "\n",
      "    You are an intelligent mobile gadget expert and your goal is to find the best mobile phone for a user.\n",
      "    You need to ask relevant questions and understand the user's profile by analyzing the user's responses. \n",
      "    Your final objective is to fill the values for the different keys in the Python dictionary and be confident of the values.\n",
      "    These key-value pairs define the user's profile.\n",
      "    ####\n",
      "    The Python dictionary looks like this:\n",
      "    {\n",
      "        'Budget': -,\n",
      "        'Rating': -,\n",
      "        'RAM Size': -,\n",
      "        'Storage': -,\n",
      "        'Rear Camera': -,\n",
      "        'Front Camera': -,\n",
      "        'Display Size (inch)': -,\n",
      "        'Battery Life': -\n",
      "    }\n",
      "    ####\n",
      "    The values for 'Battery Life' should be 'long' , 'short', 'medium' based on the importance of user's mobile usage.\n",
      "    The values for 'Rear Camera' and 'Front Camera' should be 'low', 'medium', or 'high' based on the importance of camera \n",
      "    quality to the user. All the values in the example dictionary are only representative values.\n",
      "    ####\n",
      "    Here are some instructions around the values for the different keys. If you do not follow this, you'll be heavily penalized:\n",
      "    - The values for 'Budget', 'RAM Size', 'Storage', and 'Display Size (inch)' should be numerical values extracted from the\n",
      "    user's response.\n",
      "    - 'Budget' should be greater than or equal to 1000. If the user mentions less than that, please inform them that there are\n",
      "    no mobile phones in that range.\n",
      "    - Do not randomly assign values to any of the keys.\n",
      "    - The values need to be inferred from the user's response.\n",
      "    ####\n",
      "\n",
      "    To fill the dictionary, you need to have the following chain of thoughts:\n",
      "    Follow the chain-of-thoughts below and only output the final updated Python dictionary for the keys as described in the example_user_req.\n",
      "    ####\n",
      "    Thought 1: Ask a question to understand the user's requirements. If their primary requirements for the mobile phone are\n",
      "    unclear, ask follow-up questions to understand their needs. You are trying to fill the values of all the keys\n",
      "    {'Rear Camera', 'Front Camera', 'Rating', 'RAM Size', 'Storage', 'Display Size (inch)', 'Battery Life','Budget'} in the Python dictionary by understanding the user requirements. Identify the keys for which you can fill the values confidently using the understanding. Remember the instructions around the values for the different keys. If the necessary information has been extracted, only then proceed to the next step. Otherwise, rephrase the question to capture their profile clearly.\n",
      "    ####\n",
      "    Thought 2: Now, you are trying to fill the values for the rest of the keys which you couldn't in the previous step. \n",
      "    Remember the instructions around the values for the different keys. Ask questions you might have for all the keys to\n",
      "    strengthen your understanding of the user's profile. If yes, move to the next Thought. If no, ask questions on the keys\n",
      "    whose values you are unsure of. It is a good practice to ask questions with sound logic as opposed to directly citing the \n",
      "    key you want to understand the value for.\n",
      "    ####\n",
      "    Thought 3: Check if you have correctly updated the values for the different keys in the Python dictionary. \n",
      "    If you are not confident about any of the values, ask clarifying questions.\n",
      "    ####\n",
      "\n",
      "    Here is a sample conversation between the user and assistant:\n",
      "    User: \"Hi, I need a new mobile phone.\"\n",
      "    Assistant: \"Hello! I'd be happy to help you find the perfect mobile phone. To start, could you tell me a bit about how you use your phone? For example, do you use it more for photography, gaming, or everyday tasks?\"\n",
      "    User: \"I mostly use it for photography and social media.\"\n",
      "    Assistant: \"Great! Since you prioritize photography, we'll focus on phones with good camera quality. Could you let me know your preferences for rear and front camera quality? Do you have a preference for a specific brand or any other features?\"\n",
      "    User: \"I prefer high quality for both rear and front cameras, and I like to use Samsung phones.\"\n",
      "    Assistant: \"Got it. High camera quality and a preference for Samsung. What about the other features like RAM size, storage capacity, and battery life? Do you have any specific requirements or preferences for those?\"\n",
      "    User: \"I need at least 4GB of RAM and 64GB of storage. For battery, I prefer a high battery life.\"\n",
      "    Assistant: \"Thanks for the details. One last thing: what's your budget for the new phone?\"\n",
      "    User: \"My budget is around 20000.\"\n",
      "    Assistant: \"{'Budget': '-', 'Rating': '-', 'RAM Size': '-', 'Storage': '-', 'Rear Camera': '-', 'Front Camera': '-', 'Display Size (inch)': '-', 'Battery Life': '-'}\"\n",
      "    ####\n",
      "\n",
      "    Start with a short welcome message and encourage the user to share their requirements.\n",
      "    \n"
     ]
    }
   ],
   "source": [
    "# Let's initialise conversation\n",
    "system_message = initialize_conversation()\n",
    "print(system_message[0][\"content\"])"
   ]
  },
  {
   "cell_type": "markdown",
   "id": "4977ef35",
   "metadata": {},
   "source": [
    "Let's now look at the next function.\n",
    "- `get_chat_completions()`: This takes the ongoing conversation as the input and returns the response by the assistant. We'll use the Chat Completions function for performing LLM calls to OpenAI."
   ]
  },
  {
   "cell_type": "markdown",
   "id": "28c729ef",
   "metadata": {},
   "source": [
    "### `get_chat_completions()`:\n",
    "\n",
    "This function perform LLM call using the Chat Completions API to get the LLM response."
   ]
  },
  {
   "cell_type": "code",
   "execution_count": 30,
   "id": "508357c2",
   "metadata": {},
   "outputs": [],
   "source": [
    "# Define a Chat Completions API call\n",
    "# Retry up to 6 times with exponential backoff, starting at 1 second and maxing out at 20 seconds delay\n",
    "@retry(wait=wait_random_exponential(min=1, max=20), stop=stop_after_attempt(6))\n",
    "def get_chat_completions(input, json_format = False):\n",
    "    MODEL = 'gpt-3.5-turbo'\n",
    "\n",
    "    system_message_json_output = \"\"\"<<. Return output in JSON format to the key output.>>\"\"\"\n",
    "\n",
    "    # If the output is required to be in JSON format\n",
    "    if json_format == True:\n",
    "        # Append the input prompt to include JSON response as specified by OpenAI\n",
    "        input[0]['content'] += system_message_json_output\n",
    "\n",
    "        # JSON return type specified\n",
    "        chat_completion_json = openai.chat.completions.create(\n",
    "            model = MODEL,\n",
    "            messages = input,\n",
    "            response_format = { \"type\": \"json_object\"},\n",
    "            seed = 1234)\n",
    "\n",
    "        output = json.loads(chat_completion_json.choices[0].message.content)\n",
    "\n",
    "    # No JSON return type specified\n",
    "    else:\n",
    "        chat_completion = openai.chat.completions.create(\n",
    "            model = MODEL,\n",
    "            messages = input,\n",
    "            seed = 2345)\n",
    "\n",
    "        output = chat_completion.choices[0].message.content\n",
    "\n",
    "    return output"
   ]
  },
  {
   "cell_type": "code",
   "execution_count": 31,
   "id": "f9b3c3c8",
   "metadata": {},
   "outputs": [
    {
     "data": {
      "text/plain": [
       "[{'role': 'user', 'content': 'What is the capital of France?'}]"
      ]
     },
     "execution_count": 31,
     "metadata": {},
     "output_type": "execute_result"
    }
   ],
   "source": [
    "# Testing the OpenAI functions defined above\n",
    "input_prompt ='What is the capital of France?'\n",
    "messages = [{'role':'user','content':input_prompt}]\n",
    "# system_message_json_output = \"\"\"<<. Return output in JSON format.>>\"\"\"\n",
    "# messages[0]['content']+=system_message_json_output\n",
    "messages"
   ]
  },
  {
   "cell_type": "code",
   "execution_count": 32,
   "id": "8d3fb434",
   "metadata": {},
   "outputs": [
    {
     "data": {
      "text/plain": [
       "'The capital of France is Paris.'"
      ]
     },
     "execution_count": 32,
     "metadata": {},
     "output_type": "execute_result"
    }
   ],
   "source": [
    "## Get LLM Outputs - normal\n",
    "get_chat_completions(messages) ## Chat Completions API"
   ]
  },
  {
   "cell_type": "code",
   "execution_count": 33,
   "id": "1ff69ad5",
   "metadata": {},
   "outputs": [
    {
     "data": {
      "text/plain": [
       "{'output': 'Paris'}"
      ]
     },
     "execution_count": 33,
     "metadata": {},
     "output_type": "execute_result"
    }
   ],
   "source": [
    "## Get LLM Outputs - JSON output\n",
    "get_chat_completions(messages, json_format = True) ## Chat Completions API and return in JSON format"
   ]
  },
  {
   "cell_type": "markdown",
   "id": "776c780c",
   "metadata": {},
   "source": [
    "### iterate_response() - Helper Function:\n",
    "We've created a small helper test function to ensure the model's response is consistent.\n",
    "Uncomment the code blocks and run the function `iterate_response(response)` to check if the response of the `intent_confirmation_layer`is consistent.}"
   ]
  },
  {
   "cell_type": "code",
   "execution_count": 34,
   "id": "13911764",
   "metadata": {},
   "outputs": [],
   "source": [
    "def iterate_llm_response(funct, debug_response, num = 10):\n",
    "    \"\"\"\n",
    "    Calls a specified function repeatedly and prints the results.\n",
    "    This function is designed to test the consistency of a response from a given function.\n",
    "    It calls the function multiple times (default is 10) and prints out the iteration count,\n",
    "    the function's response(s).\n",
    "    Args:\n",
    "        funct (function): The function to be tested. This function should accept a single argument\n",
    "                          and return the response value(s).\n",
    "        debug_response (dict): The input argument to be passed to 'funct' on each call.\n",
    "        num (int, optional): The number of times 'funct' will be called. Defaults to 10.\n",
    "    Returns:\n",
    "        This function only returns the results to the console.\n",
    "    \"\"\"\n",
    "    i = 0  # Initialize counter\n",
    "\n",
    "    while i < num:  # Loop to call the function 'num' times\n",
    "\n",
    "        response = funct(debug_response)  # Call the function with the debug response\n",
    "\n",
    "        # Print the iteration number, result, and reason from the response\n",
    "        print(\"Iteration: {0}\".format(i))\n",
    "        print(response)\n",
    "        print('-' * 50)  # Print a separator line for readability\n",
    "        i += 1  # Increment the counter\n",
    "\n",
    "# Example usage: test the consistency of responses from 'intent_confirmation_layer'\n",
    "# iterate_llm_response(get_chat_completions, messages)"
   ]
  },
  {
   "cell_type": "markdown",
   "id": "ee028cbd",
   "metadata": {},
   "source": [
    "Let's pass the initialized conversation `debug_conversation` and see what is the assistant's response."
   ]
  },
  {
   "cell_type": "code",
   "execution_count": 35,
   "id": "05021d47",
   "metadata": {},
   "outputs": [],
   "source": [
    "debug_user_input = \"Hi, I am Anand. I need a new mobile phone.\""
   ]
  },
  {
   "cell_type": "code",
   "execution_count": 36,
   "id": "04b687c9",
   "metadata": {},
   "outputs": [
    {
     "name": "stdout",
     "output_type": "stream",
     "text": [
      "Hi, I am Anand. I need a new mobile phone.\n"
     ]
    }
   ],
   "source": [
    "debug_conversation.append({\"role\": \"user\", \"content\": debug_user_input})\n",
    "# print(debug_conversation[0][\"content\"]) # System Message\n",
    "print(debug_conversation[1][\"content\"]) # User Input"
   ]
  },
  {
   "cell_type": "code",
   "execution_count": 37,
   "id": "52d0d4c4",
   "metadata": {},
   "outputs": [
    {
     "data": {
      "text/plain": [
       "[{'role': 'system',\n",
       "  'content': '\\n    You are an intelligent mobile gadget expert and your goal is to find the best mobile phone for a user.\\n    You need to ask relevant questions and understand the user\\'s profile by analyzing the user\\'s responses. \\n    Your final objective is to fill the values for the different keys in the Python dictionary and be confident of the values.\\n    These key-value pairs define the user\\'s profile.\\n    ####\\n    The Python dictionary looks like this:\\n    {\\n        \\'Budget\\': -,\\n        \\'Rating\\': -,\\n        \\'RAM Size\\': -,\\n        \\'Storage\\': -,\\n        \\'Rear Camera\\': -,\\n        \\'Front Camera\\': -,\\n        \\'Display Size (inch)\\': -,\\n        \\'Battery Life\\': -\\n    }\\n    ####\\n    The values for \\'Battery Life\\' should be \\'long\\' , \\'short\\', \\'medium\\' based on the importance of user\\'s mobile usage.\\n    The values for \\'Rear Camera\\' and \\'Front Camera\\' should be \\'low\\', \\'medium\\', or \\'high\\' based on the importance of camera \\n    quality to the user. All the values in the example dictionary are only representative values.\\n    ####\\n    Here are some instructions around the values for the different keys. If you do not follow this, you\\'ll be heavily penalized:\\n    - The values for \\'Budget\\', \\'RAM Size\\', \\'Storage\\', and \\'Display Size (inch)\\' should be numerical values extracted from the\\n    user\\'s response.\\n    - \\'Budget\\' should be greater than or equal to 1000. If the user mentions less than that, please inform them that there are\\n    no mobile phones in that range.\\n    - Do not randomly assign values to any of the keys.\\n    - The values need to be inferred from the user\\'s response.\\n    ####\\n\\n    To fill the dictionary, you need to have the following chain of thoughts:\\n    Follow the chain-of-thoughts below and only output the final updated Python dictionary for the keys as described in the example_user_req.\\n    ####\\n    Thought 1: Ask a question to understand the user\\'s requirements. If their primary requirements for the mobile phone are\\n    unclear, ask follow-up questions to understand their needs. You are trying to fill the values of all the keys\\n    {\\'Rear Camera\\', \\'Front Camera\\', \\'Rating\\', \\'RAM Size\\', \\'Storage\\', \\'Display Size (inch)\\', \\'Battery Life\\',\\'Budget\\'} in the Python dictionary by understanding the user requirements. Identify the keys for which you can fill the values confidently using the understanding. Remember the instructions around the values for the different keys. If the necessary information has been extracted, only then proceed to the next step. Otherwise, rephrase the question to capture their profile clearly.\\n    ####\\n    Thought 2: Now, you are trying to fill the values for the rest of the keys which you couldn\\'t in the previous step. \\n    Remember the instructions around the values for the different keys. Ask questions you might have for all the keys to\\n    strengthen your understanding of the user\\'s profile. If yes, move to the next Thought. If no, ask questions on the keys\\n    whose values you are unsure of. It is a good practice to ask questions with sound logic as opposed to directly citing the \\n    key you want to understand the value for.\\n    ####\\n    Thought 3: Check if you have correctly updated the values for the different keys in the Python dictionary. \\n    If you are not confident about any of the values, ask clarifying questions.\\n    ####\\n\\n    Here is a sample conversation between the user and assistant:\\n    User: \"Hi, I need a new mobile phone.\"\\n    Assistant: \"Hello! I\\'d be happy to help you find the perfect mobile phone. To start, could you tell me a bit about how you use your phone? For example, do you use it more for photography, gaming, or everyday tasks?\"\\n    User: \"I mostly use it for photography and social media.\"\\n    Assistant: \"Great! Since you prioritize photography, we\\'ll focus on phones with good camera quality. Could you let me know your preferences for rear and front camera quality? Do you have a preference for a specific brand or any other features?\"\\n    User: \"I prefer high quality for both rear and front cameras, and I like to use Samsung phones.\"\\n    Assistant: \"Got it. High camera quality and a preference for Samsung. What about the other features like RAM size, storage capacity, and battery life? Do you have any specific requirements or preferences for those?\"\\n    User: \"I need at least 4GB of RAM and 64GB of storage. For battery, I prefer a high battery life.\"\\n    Assistant: \"Thanks for the details. One last thing: what\\'s your budget for the new phone?\"\\n    User: \"My budget is around 20000.\"\\n    Assistant: \"{\\'Budget\\': \\'-\\', \\'Rating\\': \\'-\\', \\'RAM Size\\': \\'-\\', \\'Storage\\': \\'-\\', \\'Rear Camera\\': \\'-\\', \\'Front Camera\\': \\'-\\', \\'Display Size (inch)\\': \\'-\\', \\'Battery Life\\': \\'-\\'}\"\\n    ####\\n\\n    Start with a short welcome message and encourage the user to share their requirements.\\n    '},\n",
       " {'role': 'user', 'content': 'Hi, I am Anand. I need a new mobile phone.'}]"
      ]
     },
     "metadata": {},
     "output_type": "display_data"
    }
   ],
   "source": [
    "# Let's look at the debug_conversation list\n",
    "display(debug_conversation)"
   ]
  },
  {
   "cell_type": "code",
   "execution_count": 38,
   "id": "e380d4f1",
   "metadata": {},
   "outputs": [
    {
     "data": {
      "text/plain": [
       "\"Hello Anand! I'd be happy to help you find the perfect mobile phone. To start, could you tell me a bit about how you use your phone? For example, do you use it more for photography, gaming, or everyday tasks? This will help me understand your requirements better.\""
      ]
     },
     "metadata": {},
     "output_type": "display_data"
    }
   ],
   "source": [
    "# Getting the response from the Assistant by passing the conversation to the Chat Completions API\n",
    "debug_response_assistant = get_chat_completions(debug_conversation)\n",
    "display(debug_response_assistant)"
   ]
  },
  {
   "cell_type": "markdown",
   "id": "6b1e4143",
   "metadata": {},
   "source": [
    "Let's play around a bit and add the following user's input `debug_user_input` to the conversation `debug_conversation` and see what the assistant responds with."
   ]
  },
  {
   "cell_type": "code",
   "execution_count": 39,
   "id": "244961f1",
   "metadata": {},
   "outputs": [
    {
     "data": {
      "text/plain": [
       "[{'role': 'system',\n",
       "  'content': '\\n    You are an intelligent mobile gadget expert and your goal is to find the best mobile phone for a user.\\n    You need to ask relevant questions and understand the user\\'s profile by analyzing the user\\'s responses. \\n    Your final objective is to fill the values for the different keys in the Python dictionary and be confident of the values.\\n    These key-value pairs define the user\\'s profile.\\n    ####\\n    The Python dictionary looks like this:\\n    {\\n        \\'Budget\\': -,\\n        \\'Rating\\': -,\\n        \\'RAM Size\\': -,\\n        \\'Storage\\': -,\\n        \\'Rear Camera\\': -,\\n        \\'Front Camera\\': -,\\n        \\'Display Size (inch)\\': -,\\n        \\'Battery Life\\': -\\n    }\\n    ####\\n    The values for \\'Battery Life\\' should be \\'long\\' , \\'short\\', \\'medium\\' based on the importance of user\\'s mobile usage.\\n    The values for \\'Rear Camera\\' and \\'Front Camera\\' should be \\'low\\', \\'medium\\', or \\'high\\' based on the importance of camera \\n    quality to the user. All the values in the example dictionary are only representative values.\\n    ####\\n    Here are some instructions around the values for the different keys. If you do not follow this, you\\'ll be heavily penalized:\\n    - The values for \\'Budget\\', \\'RAM Size\\', \\'Storage\\', and \\'Display Size (inch)\\' should be numerical values extracted from the\\n    user\\'s response.\\n    - \\'Budget\\' should be greater than or equal to 1000. If the user mentions less than that, please inform them that there are\\n    no mobile phones in that range.\\n    - Do not randomly assign values to any of the keys.\\n    - The values need to be inferred from the user\\'s response.\\n    ####\\n\\n    To fill the dictionary, you need to have the following chain of thoughts:\\n    Follow the chain-of-thoughts below and only output the final updated Python dictionary for the keys as described in the example_user_req.\\n    ####\\n    Thought 1: Ask a question to understand the user\\'s requirements. If their primary requirements for the mobile phone are\\n    unclear, ask follow-up questions to understand their needs. You are trying to fill the values of all the keys\\n    {\\'Rear Camera\\', \\'Front Camera\\', \\'Rating\\', \\'RAM Size\\', \\'Storage\\', \\'Display Size (inch)\\', \\'Battery Life\\',\\'Budget\\'} in the Python dictionary by understanding the user requirements. Identify the keys for which you can fill the values confidently using the understanding. Remember the instructions around the values for the different keys. If the necessary information has been extracted, only then proceed to the next step. Otherwise, rephrase the question to capture their profile clearly.\\n    ####\\n    Thought 2: Now, you are trying to fill the values for the rest of the keys which you couldn\\'t in the previous step. \\n    Remember the instructions around the values for the different keys. Ask questions you might have for all the keys to\\n    strengthen your understanding of the user\\'s profile. If yes, move to the next Thought. If no, ask questions on the keys\\n    whose values you are unsure of. It is a good practice to ask questions with sound logic as opposed to directly citing the \\n    key you want to understand the value for.\\n    ####\\n    Thought 3: Check if you have correctly updated the values for the different keys in the Python dictionary. \\n    If you are not confident about any of the values, ask clarifying questions.\\n    ####\\n\\n    Here is a sample conversation between the user and assistant:\\n    User: \"Hi, I need a new mobile phone.\"\\n    Assistant: \"Hello! I\\'d be happy to help you find the perfect mobile phone. To start, could you tell me a bit about how you use your phone? For example, do you use it more for photography, gaming, or everyday tasks?\"\\n    User: \"I mostly use it for photography and social media.\"\\n    Assistant: \"Great! Since you prioritize photography, we\\'ll focus on phones with good camera quality. Could you let me know your preferences for rear and front camera quality? Do you have a preference for a specific brand or any other features?\"\\n    User: \"I prefer high quality for both rear and front cameras, and I like to use Samsung phones.\"\\n    Assistant: \"Got it. High camera quality and a preference for Samsung. What about the other features like RAM size, storage capacity, and battery life? Do you have any specific requirements or preferences for those?\"\\n    User: \"I need at least 4GB of RAM and 64GB of storage. For battery, I prefer a high battery life.\"\\n    Assistant: \"Thanks for the details. One last thing: what\\'s your budget for the new phone?\"\\n    User: \"My budget is around 20000.\"\\n    Assistant: \"{\\'Budget\\': \\'-\\', \\'Rating\\': \\'-\\', \\'RAM Size\\': \\'-\\', \\'Storage\\': \\'-\\', \\'Rear Camera\\': \\'-\\', \\'Front Camera\\': \\'-\\', \\'Display Size (inch)\\': \\'-\\', \\'Battery Life\\': \\'-\\'}\"\\n    ####\\n\\n    Start with a short welcome message and encourage the user to share their requirements.\\n    '},\n",
       " {'role': 'user', 'content': 'Hi, I am Anand. I need a new mobile phone.'},\n",
       " {'role': 'system',\n",
       "  'content': \"Hello Anand! I'd be happy to help you find the perfect mobile phone. To start, could you tell me a bit about how you use your phone? For example, do you use it more for photography, gaming, or everyday tasks? This will help me understand your requirements better.\"}]"
      ]
     },
     "execution_count": 39,
     "metadata": {},
     "output_type": "execute_result"
    }
   ],
   "source": [
    "# Let's append this to the conversation list\n",
    "debug_conversation.append(({\"role\": \"system\", \"content\": debug_response_assistant}))\n",
    "debug_conversation"
   ]
  },
  {
   "cell_type": "markdown",
   "id": "1d28eae0",
   "metadata": {},
   "source": [
    "Typically, whenever the chatbot is interacting with the user, all the conversations should be moderated to identify any inappropriate content. Let's look at the function that can help with it."
   ]
  },
  {
   "cell_type": "markdown",
   "id": "6a1844cf",
   "metadata": {},
   "source": [
    "### `moderation_check()`:\n",
    " This checks if the user's or the assistant's message is inappropriate. If any of these is inappropriate, you can add a break statement to end the conversation."
   ]
  },
  {
   "cell_type": "code",
   "execution_count": 40,
   "id": "a311b843",
   "metadata": {},
   "outputs": [],
   "source": [
    "# Define a function called moderation_check that takes user_input as a parameter.\n",
    "\n",
    "def moderation_check(user_input):\n",
    "    # Call the OpenAI API to perform moderation on the user's input.\n",
    "    response = openai.moderations.create(input=user_input)\n",
    "\n",
    "    # Extract the moderation result from the API response.\n",
    "    moderation_output = response.results[0].flagged\n",
    "    # Check if the input was flagged by the moderation system.\n",
    "    if response.results[0].flagged == True:\n",
    "        # If flagged, return \"Flagged\"\n",
    "        return \"Flagged\"\n",
    "    else:\n",
    "        # If not flagged, return \"Not Flagged\"\n",
    "        return \"Not Flagged\""
   ]
  },
  {
   "cell_type": "code",
   "execution_count": 41,
   "id": "1a2d267a",
   "metadata": {},
   "outputs": [
    {
     "data": {
      "text/plain": [
       "'Flagged'"
      ]
     },
     "execution_count": 41,
     "metadata": {},
     "output_type": "execute_result"
    }
   ],
   "source": [
    "moderation_check(\"I want to kill them.\")"
   ]
  },
  {
   "cell_type": "code",
   "execution_count": 42,
   "id": "d0c704c1",
   "metadata": {},
   "outputs": [
    {
     "data": {
      "text/plain": [
       "'Not Flagged'"
      ]
     },
     "execution_count": 42,
     "metadata": {},
     "output_type": "execute_result"
    }
   ],
   "source": [
    "moderation_check(\"Hi how are you? I am good \")"
   ]
  },
  {
   "cell_type": "markdown",
   "id": "250548a3",
   "metadata": {},
   "source": [
    "Let's test moderation on the `debug_user_input`"
   ]
  },
  {
   "cell_type": "code",
   "execution_count": 43,
   "id": "60df585b",
   "metadata": {},
   "outputs": [
    {
     "name": "stdout",
     "output_type": "stream",
     "text": [
      "Not Flagged\n"
     ]
    }
   ],
   "source": [
    "debug_moderation = moderation_check(debug_user_input)\n",
    "print(debug_moderation)"
   ]
  },
  {
   "cell_type": "markdown",
   "id": "11a50927",
   "metadata": {},
   "source": [
    "Let's now test moderation on some other text."
   ]
  },
  {
   "cell_type": "code",
   "execution_count": 44,
   "id": "b5b32131",
   "metadata": {},
   "outputs": [
    {
     "name": "stdout",
     "output_type": "stream",
     "text": [
      "Flagged\n",
      "Not Flagged\n"
     ]
    }
   ],
   "source": [
    "print(moderation_check(\"I want to kill Ravan.\"))\n",
    "print(moderation_check(\"I need a mobile\"))"
   ]
  },
  {
   "cell_type": "markdown",
   "id": "e4e9ede5",
   "metadata": {},
   "source": [
    "So, this moderation api may not be perfect but if you ask this to the ChatGPT or it's API (GPT 3.5), it'll not help you with such requests. Remember, moderation should also be applied on the GPT 3.5's output."
   ]
  },
  {
   "cell_type": "markdown",
   "id": "5d099c22",
   "metadata": {},
   "source": [
    "Let's now check moderation on the assistant's response `debug_response_assistant`."
   ]
  },
  {
   "cell_type": "code",
   "execution_count": 45,
   "id": "e743f421",
   "metadata": {},
   "outputs": [
    {
     "data": {
      "text/plain": [
       "'Not Flagged'"
      ]
     },
     "execution_count": 45,
     "metadata": {},
     "output_type": "execute_result"
    }
   ],
   "source": [
    "moderation_check(debug_response_assistant)"
   ]
  },
  {
   "cell_type": "markdown",
   "id": "9880dc1c",
   "metadata": {},
   "source": [
    "As mentioned earlier, you need to understand the user's profile, which essentially means that all the features: 'Rear Camera', 'Front Camera', 'Rating', 'RAM Size', 'Storage', 'Display Size (inch)', 'Battery Life', and 'Budget' are captured or not. Let's look at the function that helps us verify that."
   ]
  },
  {
   "cell_type": "markdown",
   "id": "699e71b6",
   "metadata": {},
   "source": [
    "### `intent_confirmation_layer()`:\n",
    "\n",
    "This function takes the assistant's response and evaluates if the chatbot has captured the user's profile clearly. Specifically, this checks if the following properties for the user has been captured or not\n",
    "- 'Budget'\n",
    "- 'Rating'\n",
    "- 'RAM Size'\n",
    "- 'Storage'\n",
    "- 'Rear Camera'\n",
    "- 'Front Camera'\n",
    "- 'Display Size (inch)'\n",
    "- 'Battery Life'"
   ]
  },
  {
   "cell_type": "markdown",
   "id": "c7a3a14b",
   "metadata": {},
   "source": [
    "```\n",
    "def intent_confirmation_layer(response_assistant):\n",
    "    \"\"\"\n",
    "    This function serves as an intent confirmation layer for a smartphone recommendation system.\n",
    "\n",
    "    Parameters:\n",
    "    - response_assistant (str): The input text containing user requirements captured through 8 keys:\n",
    "        'Rear Camera', 'Front Camera', 'Rating', 'RAM Size', 'Storage', 'Display Size (inch)', 'Battery Life', and 'Budget'.\n",
    "\n",
    "    Returns:\n",
    "    - str: A one-word string in JSON format indicating if the values for the specified keys are correctly filled.\n",
    "        - 'Yes' if the values are correctly filled for all keys ('Rear Camera', 'Front Camera', 'Rating', 'RAM Size',\n",
    "          'Storage', 'Display Size (inch)', 'Battery Life', and 'Budget') based on the importance as stated by the user.\n",
    "        - 'No' otherwise.\n",
    "\n",
    "    Note:\n",
    "    - The values for 'Rear Camera', 'Front Camera', and 'Rating' should be 'high', 'medium', or 'low'.\n",
    "    - The value for 'Battery Life' should be 'long', 'medium', or 'short'.\n",
    "    - The other key values ('RAM Size', 'Storage', 'Display Size (inch)', 'Budget') should be in numeric form.\n",
    "    - The input text should be structured such that it contains the necessary keys and their corresponding values.\n",
    "    \"\"\"\n",
    "```"
   ]
  },
  {
   "cell_type": "code",
   "execution_count": 46,
   "id": "a83e8fc1",
   "metadata": {},
   "outputs": [],
   "source": [
    "def intent_confirmation_layer(response_assistant):\n",
    "    \n",
    "    delimeter=\"####\"\n",
    "    \n",
    "    allowed_values = {'low', 'medium', 'high'}\n",
    "    battery_values = {'long', 'medium', 'short'}\n",
    "\n",
    "    \n",
    "    prompt = f\"\"\"\n",
    "    You are a senior evaluator with an eye for detail. The input text will contain user requirements captured through 8 keys.\n",
    "    You are provided an input. You need to evaluate if the input text has the following keys:\n",
    "    {{\n",
    "    'Budget': 'number',\n",
    "    'Rating': 'values',\n",
    "    'RAM Size': 'number',\n",
    "    'Storage': 'number',\n",
    "    'Rear Camera': 'values',\n",
    "    'Front Camera': 'values',\n",
    "    'Display Size (inch)': 'number',\n",
    "    'Battery Life': 'values',\n",
    "    }}\n",
    "    The values for 'Rear Camera', 'Front Camera', and 'Rating' should only be from the allowed values: {allowed_values}.\n",
    "    The value for 'Battery Life' should only be from the allowed values: {battery_values}.\n",
    "    The other keys ('RAM Size', 'Storage', 'Display Size (inch)', 'Budget') should have numeric values.\n",
    "    Next, you need to evaluate if the keys have the values filled correctly.\n",
    "    Only output a one-word string in JSON format at the key 'result' - Yes/No.\n",
    "    Thought 1 - Output 'Yes' if the values are correctly filled for all keys, even if a single key missing output should be 'No'.\n",
    "    Thought 2 - If the answer is No, mention the reason in the key 'reason'.\n",
    "    Thought 3 - Think carefully before answering.\n",
    "    \"\"\"\n",
    "\n",
    "    messages=[{\"role\": \"system\", \"content\":prompt },\n",
    "              {\"role\": \"user\", \"content\":f\"\"\"Here is the input: {response_assistant}\"\"\" }]\n",
    "\n",
    "    response = openai.chat.completions.create(\n",
    "                                    model=\"gpt-3.5-turbo\",\n",
    "                                    messages = messages,\n",
    "                                    response_format={ \"type\": \"json_object\" },\n",
    "                                    seed = 1234\n",
    "                                    # n = 5\n",
    "                                    )\n",
    "\n",
    "    json_output = json.loads(response.choices[0].message.content)\n",
    "\n",
    "    return json_output\n"
   ]
  },
  {
   "cell_type": "markdown",
   "id": "d56667b6",
   "metadata": {},
   "source": [
    "Let's apply the function to the assistant's reponse and see if it has captured the user profile."
   ]
  },
  {
   "cell_type": "code",
   "execution_count": 47,
   "id": "ac941bbb",
   "metadata": {},
   "outputs": [
    {
     "data": {
      "text/plain": [
       "\"Hello Anand! I'd be happy to help you find the perfect mobile phone. To start, could you tell me a bit about how you use your phone? For example, do you use it more for photography, gaming, or everyday tasks? This will help me understand your requirements better.\""
      ]
     },
     "execution_count": 47,
     "metadata": {},
     "output_type": "execute_result"
    }
   ],
   "source": [
    "debug_response_assistant"
   ]
  },
  {
   "cell_type": "code",
   "execution_count": 48,
   "id": "daba1316",
   "metadata": {},
   "outputs": [
    {
     "data": {
      "text/plain": [
       "{'result': 'No', 'reason': 'Missing required keys'}"
      ]
     },
     "metadata": {},
     "output_type": "display_data"
    }
   ],
   "source": [
    "debug_confirmation = intent_confirmation_layer(debug_response_assistant)\n",
    "display(debug_confirmation)"
   ]
  },
  {
   "cell_type": "code",
   "execution_count": 49,
   "id": "b8355cc7",
   "metadata": {},
   "outputs": [
    {
     "name": "stdout",
     "output_type": "stream",
     "text": [
      "Result: No \t Reason: Missing required keys\n"
     ]
    }
   ],
   "source": [
    "# Printing the value for better clarity\n",
    "print(\"Result:\",debug_confirmation.get('result'),\"\\t\", \"Reason:\", debug_confirmation.get('reason'))"
   ]
  },
  {
   "cell_type": "markdown",
   "id": "9085e73b",
   "metadata": {},
   "source": [
    "Now, you can keep adding user and assistant responses to debug_conversation and get to a point where intent_confirmation_layer() gives yes as a response. Let's see if the following response by the assistant passes the intent_confirmation_layer() test."
   ]
  },
  {
   "cell_type": "code",
   "execution_count": 50,
   "id": "b6db36d5",
   "metadata": {},
   "outputs": [],
   "source": [
    "#Let's add the above assistant response to the debug_conversation.\n",
    "debug_conversation.append({\"role\": \"assistant\", \"content\": debug_response_assistant})"
   ]
  },
  {
   "cell_type": "code",
   "execution_count": 51,
   "id": "acd43a4b",
   "metadata": {},
   "outputs": [
    {
     "data": {
      "text/plain": [
       "[{'role': 'system',\n",
       "  'content': '\\n    You are an intelligent mobile gadget expert and your goal is to find the best mobile phone for a user.\\n    You need to ask relevant questions and understand the user\\'s profile by analyzing the user\\'s responses. \\n    Your final objective is to fill the values for the different keys in the Python dictionary and be confident of the values.\\n    These key-value pairs define the user\\'s profile.\\n    ####\\n    The Python dictionary looks like this:\\n    {\\n        \\'Budget\\': -,\\n        \\'Rating\\': -,\\n        \\'RAM Size\\': -,\\n        \\'Storage\\': -,\\n        \\'Rear Camera\\': -,\\n        \\'Front Camera\\': -,\\n        \\'Display Size (inch)\\': -,\\n        \\'Battery Life\\': -\\n    }\\n    ####\\n    The values for \\'Battery Life\\' should be \\'long\\' , \\'short\\', \\'medium\\' based on the importance of user\\'s mobile usage.\\n    The values for \\'Rear Camera\\' and \\'Front Camera\\' should be \\'low\\', \\'medium\\', or \\'high\\' based on the importance of camera \\n    quality to the user. All the values in the example dictionary are only representative values.\\n    ####\\n    Here are some instructions around the values for the different keys. If you do not follow this, you\\'ll be heavily penalized:\\n    - The values for \\'Budget\\', \\'RAM Size\\', \\'Storage\\', and \\'Display Size (inch)\\' should be numerical values extracted from the\\n    user\\'s response.\\n    - \\'Budget\\' should be greater than or equal to 1000. If the user mentions less than that, please inform them that there are\\n    no mobile phones in that range.\\n    - Do not randomly assign values to any of the keys.\\n    - The values need to be inferred from the user\\'s response.\\n    ####\\n\\n    To fill the dictionary, you need to have the following chain of thoughts:\\n    Follow the chain-of-thoughts below and only output the final updated Python dictionary for the keys as described in the example_user_req.\\n    ####\\n    Thought 1: Ask a question to understand the user\\'s requirements. If their primary requirements for the mobile phone are\\n    unclear, ask follow-up questions to understand their needs. You are trying to fill the values of all the keys\\n    {\\'Rear Camera\\', \\'Front Camera\\', \\'Rating\\', \\'RAM Size\\', \\'Storage\\', \\'Display Size (inch)\\', \\'Battery Life\\',\\'Budget\\'} in the Python dictionary by understanding the user requirements. Identify the keys for which you can fill the values confidently using the understanding. Remember the instructions around the values for the different keys. If the necessary information has been extracted, only then proceed to the next step. Otherwise, rephrase the question to capture their profile clearly.\\n    ####\\n    Thought 2: Now, you are trying to fill the values for the rest of the keys which you couldn\\'t in the previous step. \\n    Remember the instructions around the values for the different keys. Ask questions you might have for all the keys to\\n    strengthen your understanding of the user\\'s profile. If yes, move to the next Thought. If no, ask questions on the keys\\n    whose values you are unsure of. It is a good practice to ask questions with sound logic as opposed to directly citing the \\n    key you want to understand the value for.\\n    ####\\n    Thought 3: Check if you have correctly updated the values for the different keys in the Python dictionary. \\n    If you are not confident about any of the values, ask clarifying questions.\\n    ####\\n\\n    Here is a sample conversation between the user and assistant:\\n    User: \"Hi, I need a new mobile phone.\"\\n    Assistant: \"Hello! I\\'d be happy to help you find the perfect mobile phone. To start, could you tell me a bit about how you use your phone? For example, do you use it more for photography, gaming, or everyday tasks?\"\\n    User: \"I mostly use it for photography and social media.\"\\n    Assistant: \"Great! Since you prioritize photography, we\\'ll focus on phones with good camera quality. Could you let me know your preferences for rear and front camera quality? Do you have a preference for a specific brand or any other features?\"\\n    User: \"I prefer high quality for both rear and front cameras, and I like to use Samsung phones.\"\\n    Assistant: \"Got it. High camera quality and a preference for Samsung. What about the other features like RAM size, storage capacity, and battery life? Do you have any specific requirements or preferences for those?\"\\n    User: \"I need at least 4GB of RAM and 64GB of storage. For battery, I prefer a high battery life.\"\\n    Assistant: \"Thanks for the details. One last thing: what\\'s your budget for the new phone?\"\\n    User: \"My budget is around 20000.\"\\n    Assistant: \"{\\'Budget\\': \\'-\\', \\'Rating\\': \\'-\\', \\'RAM Size\\': \\'-\\', \\'Storage\\': \\'-\\', \\'Rear Camera\\': \\'-\\', \\'Front Camera\\': \\'-\\', \\'Display Size (inch)\\': \\'-\\', \\'Battery Life\\': \\'-\\'}\"\\n    ####\\n\\n    Start with a short welcome message and encourage the user to share their requirements.\\n    '},\n",
       " {'role': 'user', 'content': 'Hi, I am Anand. I need a new mobile phone.'},\n",
       " {'role': 'system',\n",
       "  'content': \"Hello Anand! I'd be happy to help you find the perfect mobile phone. To start, could you tell me a bit about how you use your phone? For example, do you use it more for photography, gaming, or everyday tasks? This will help me understand your requirements better.\"},\n",
       " {'role': 'assistant',\n",
       "  'content': \"Hello Anand! I'd be happy to help you find the perfect mobile phone. To start, could you tell me a bit about how you use your phone? For example, do you use it more for photography, gaming, or everyday tasks? This will help me understand your requirements better.\"}]"
      ]
     },
     "execution_count": 51,
     "metadata": {},
     "output_type": "execute_result"
    }
   ],
   "source": [
    "debug_conversation"
   ]
  },
  {
   "cell_type": "markdown",
   "id": "b4f1b4fb",
   "metadata": {},
   "source": [
    "Let's say that after a series of conversations you get the following response from the assistant."
   ]
  },
  {
   "cell_type": "code",
   "execution_count": 52,
   "id": "a84a801c",
   "metadata": {},
   "outputs": [
    {
     "name": "stdout",
     "output_type": "stream",
     "text": [
      "\n",
      "Great, thank you for clarifying your requirements.\n",
      "Based on your inputs, here is the final profile for the mobile phone you are looking for:\n",
      "{{\n",
      "        'Budget':'12000',\n",
      "        'Rating': 'high',\n",
      "        'RAM Size': 4,\n",
      "        'Storage': 64,\n",
      "        'Rear Camera': 'high',\n",
      "        'Front Camera': 'medium',\n",
      "        'Display Size (inch)': 6.5,\n",
      "        'Battery Life': 'long'\n",
      "}}\n",
      "\n"
     ]
    }
   ],
   "source": [
    "# Example 1 - Let's check with the confirmation_layer if all the keys are present\n",
    "debug_response_assistant_1 = \"\"\"\n",
    "Great, thank you for clarifying your requirements.\n",
    "Based on your inputs, here is the final profile for the mobile phone you are looking for:\n",
    "{{\n",
    "        'Budget':'12000',\n",
    "        'Rating': 'high',\n",
    "        'RAM Size': 4,\n",
    "        'Storage': 64,\n",
    "        'Rear Camera': 'high',\n",
    "        'Front Camera': 'medium',\n",
    "        'Display Size (inch)': 6.5,\n",
    "        'Battery Life': 'long'\n",
    "}}\n",
    "\"\"\"\n",
    "#Note that you are using double curly braces\n",
    "\n",
    "print(debug_response_assistant_1)"
   ]
  },
  {
   "cell_type": "markdown",
   "id": "92d8beb8",
   "metadata": {},
   "source": [
    "Do you think it'll pass the `intent_confirmation_layer()` test?\n",
    "\n",
    " Let's try it out."
   ]
  },
  {
   "cell_type": "code",
   "execution_count": 53,
   "id": "3d015d4b",
   "metadata": {},
   "outputs": [
    {
     "name": "stdout",
     "output_type": "stream",
     "text": [
      "{'result': 'Yes'}\n"
     ]
    },
    {
     "data": {
      "text/plain": [
       "'Yes'"
      ]
     },
     "execution_count": 53,
     "metadata": {},
     "output_type": "execute_result"
    }
   ],
   "source": [
    "response = intent_confirmation_layer(debug_response_assistant_1)\n",
    "print(response)\n",
    "response.get('result') # Extract the result key from the dictionary"
   ]
  },
  {
   "cell_type": "code",
   "execution_count": 54,
   "id": "aa1a3442",
   "metadata": {},
   "outputs": [
    {
     "name": "stdout",
     "output_type": "stream",
     "text": [
      "\n",
      "Great, thank you for clarifying your requirements.\n",
      "Based on your inputs, here is the final profile for the mobile phone you are looking for:\n",
      "{\n",
      "        \n",
      "        'Rating': 'medium',\n",
      "        'RAM Size': 4,\n",
      "        'Storage': 64,\n",
      "        'Rear Camera': 'high',\n",
      "        'Front Camera': 'high',\n",
      "        'Display Size (inch)': 6.5,\n",
      "        'Battery Life': 'long'\n",
      "}\n",
      "\n"
     ]
    }
   ],
   "source": [
    "# Example 2 - Let's check confirmation_layer if all the keys are present\n",
    "debug_response_assistant_2 = f\"\"\"\n",
    "Great, thank you for clarifying your requirements.\n",
    "Based on your inputs, here is the final profile for the mobile phone you are looking for:\n",
    "{{\n",
    "        \n",
    "        'Rating': 'medium',\n",
    "        'RAM Size': 4,\n",
    "        'Storage': 64,\n",
    "        'Rear Camera': 'high',\n",
    "        'Front Camera': 'high',\n",
    "        'Display Size (inch)': 6.5,\n",
    "        'Battery Life': 'long'\n",
    "}}\n",
    "\"\"\"\n",
    "#Note that you are using double curly braces\n",
    "\n",
    "print(debug_response_assistant_2)"
   ]
  },
  {
   "cell_type": "code",
   "execution_count": 55,
   "id": "e799441f",
   "metadata": {},
   "outputs": [
    {
     "data": {
      "text/plain": [
       "{'result': 'No', 'reason': \"Missing keys: 'Budget'.\"}"
      ]
     },
     "execution_count": 55,
     "metadata": {},
     "output_type": "execute_result"
    }
   ],
   "source": [
    "intent_confirmation_layer(debug_response_assistant_2)\n",
    "# iterate_llm_response(intent_confirmation_layer, debug_response_assistant_2)"
   ]
  },
  {
   "cell_type": "code",
   "execution_count": 56,
   "id": "c7b2ab42",
   "metadata": {},
   "outputs": [
    {
     "name": "stdout",
     "output_type": "stream",
     "text": [
      "\n",
      "Great, thank you for clarifying your requirements.\n",
      "Based on your inputs, here is the final profile for the mobile phone you are looking for:\n",
      "{\n",
      "        'Budget':'11000',\n",
      "        'Rating': 'high',\n",
      "        'RAM Size': 3,\n",
      "        'Storage': 32,\n",
      "        'Rear Camera': 'medium',\n",
      "        'Front Camera': 'low',\n",
      "        'Display Size (inch)': 4.5,\n",
      "        'Battery Life': 'medium'\n",
      "}\n",
      "\n"
     ]
    }
   ],
   "source": [
    "# Example 3 - Let's check confirmation_layer if all the keys are present\n",
    "debug_response_assistant_3 = f\"\"\"\n",
    "Great, thank you for clarifying your requirements.\n",
    "Based on your inputs, here is the final profile for the mobile phone you are looking for:\n",
    "{{\n",
    "        'Budget':'11000',\n",
    "        'Rating': 'high',\n",
    "        'RAM Size': 3,\n",
    "        'Storage': 32,\n",
    "        'Rear Camera': 'medium',\n",
    "        'Front Camera': 'low',\n",
    "        'Display Size (inch)': 4.5,\n",
    "        'Battery Life': 'medium'\n",
    "}}\n",
    "\"\"\"\n",
    "#Note that you are using double curly braces\n",
    "\n",
    "print(debug_response_assistant_3)"
   ]
  },
  {
   "cell_type": "code",
   "execution_count": 57,
   "id": "c03e5b71",
   "metadata": {},
   "outputs": [
    {
     "data": {
      "text/plain": [
       "{'result': 'Yes'}"
      ]
     },
     "execution_count": 57,
     "metadata": {},
     "output_type": "execute_result"
    }
   ],
   "source": [
    "intent_confirmation_layer(debug_response_assistant_3)\n",
    "# iterate_llm_response(intent_confirmation_layer, debug_response_assistant_3)"
   ]
  },
  {
   "cell_type": "markdown",
   "id": "690786f4",
   "metadata": {},
   "source": [
    "Let's now look at the working of `dictionary_present()`."
   ]
  },
  {
   "cell_type": "markdown",
   "id": "aa20eaa2",
   "metadata": {},
   "source": [
    "### `dictionary_present()`:\n",
    "\n",
    "This function checks if the final understanding of user's profile is returned by the chatbot is a Python dictionary or not. This is important as it'll be used later on for finding the right mobiles using dictionary matching."
   ]
  },
  {
   "cell_type": "code",
   "execution_count": 58,
   "id": "44196caf",
   "metadata": {},
   "outputs": [],
   "source": [
    "def dictionary_present(response):\n",
    "    delimiter = \"####\"\n",
    "\n",
    "    user_req = {\n",
    "        'Budget': '40000',\n",
    "        'Rating': 'high',\n",
    "        'RAM Size': '6',\n",
    "        'Storage': '64',\n",
    "        'Rear Camera': 'high',\n",
    "        'Front Camera': 'medium',\n",
    "        'Display Size (inch)': '6',\n",
    "        'Battery Life': 'medium'\n",
    "    }\n",
    "\n",
    "    prompt = f\"\"\"You are a python expert. You are provided an input.\n",
    "    You have to check if there is a python dictionary present in the string.\n",
    "    It will have the following format {user_req}.\n",
    "    Your task is to just extract the relevant values from the input and return only the python dictionary in JSON format.\n",
    "    The output should match the format as {user_req}.\n",
    "\n",
    "    {delimiter}\n",
    "    Make sure that the value of Budget is also present in the user input. ###\n",
    "    The output should contain the exact keys and values as present in the input.\n",
    "    Ensure the keys and values are in the given format:\n",
    "    {{   \n",
    "        'Budget': 'number',\n",
    "        'Rating': 'values',\n",
    "        'RAM Size': 'number',\n",
    "        'Storage': 'number',\n",
    "        'Rear Camera': 'values',\n",
    "        'Front Camera': 'values',\n",
    "        'Display Size (inch)': 'number',\n",
    "        'Battery Life': 'values'\n",
    "    }}\n",
    "    Here are some sample input output pairs for better understanding:\n",
    "    {delimiter}\n",
    "    input 1: - {{'Budget': 'number','Rating': 'values', 'RAM Size': 'number', 'Storage': 'number','Rear Camera': 'values','Front Camera': 'values','Display Size (inch)': 'number','Battery Life': 'values'}} \n",
    "    output 1: {{'Budget': 12000, 'Rating': 'low' ,'RAM Size': 4, 'Storage': 64, 'Rear Camera': 'medium','Front Camera': 'medium','Display Size (inch)': 4.5,'Battery Life': 'long'}}\n",
    "\n",
    "    input 2: - {{'Budget': 'number','Rating': 'values', 'RAM Size': 'number', 'Storage': 'number','Rear Camera': 'values','Front Camera': 'values','Display Size (inch)': 'number','Battery Life': 'values'}} \n",
    "    output 2: {{'Budget': 20000, 'Rating': 'high' ,'RAM Size': 8, 'Storage': 128, 'Rear Camera': 'high','Front Camera': 'high','Display Size (inch)': 6.0,'Battery Life': 'short'}}            \n",
    "    {delimiter}\n",
    "    \"\"\"\n",
    "    messages = [{\"role\": \"system\", \"content\":prompt },\n",
    "                {\"role\": \"user\", \"content\":f\"\"\"Here is the user input: {response}\"\"\" }]\n",
    "\n",
    "    confirmation = get_chat_completions(messages, json_format = True)\n",
    "\n",
    "    return confirmation"
   ]
  },
  {
   "cell_type": "markdown",
   "id": "476e2f60",
   "metadata": {},
   "source": [
    "Let's start by passing the `debug_response_assistant`."
   ]
  },
  {
   "cell_type": "code",
   "execution_count": 59,
   "id": "f2d7a39f",
   "metadata": {},
   "outputs": [],
   "source": [
    "debug_response_assistant_n = \"\"\"\n",
    "{   \n",
    "    'Budget': '40000',\n",
    "        'Rating': 'high',\n",
    "        'RAM Size': '6',\n",
    "        'Storage': '64',\n",
    "        'Rear Camera': 'high',\n",
    "        'Front Camera': 'medium',\n",
    "        'Display Size (inch)': '6',\n",
    "        'Battery Life': 'medium'\n",
    "    }\n",
    "\"\"\""
   ]
  },
  {
   "cell_type": "code",
   "execution_count": 60,
   "id": "b7719f63",
   "metadata": {},
   "outputs": [
    {
     "data": {
      "text/plain": [
       "{'Budget': 40000,\n",
       " 'Rating': 'high',\n",
       " 'RAM Size': 6,\n",
       " 'Storage': 64,\n",
       " 'Rear Camera': 'high',\n",
       " 'Front Camera': 'medium',\n",
       " 'Display Size (inch)': 6,\n",
       " 'Battery Life': 'medium'}"
      ]
     },
     "metadata": {},
     "output_type": "display_data"
    }
   ],
   "source": [
    "response_dict_n = dictionary_present(debug_response_assistant_n)\n",
    "display(response_dict_n)"
   ]
  },
  {
   "cell_type": "code",
   "execution_count": 61,
   "id": "2c074cbf",
   "metadata": {},
   "outputs": [
    {
     "data": {
      "text/plain": [
       "dict"
      ]
     },
     "execution_count": 61,
     "metadata": {},
     "output_type": "execute_result"
    }
   ],
   "source": [
    "type(response_dict_n)"
   ]
  },
  {
   "cell_type": "markdown",
   "id": "d2dfd500",
   "metadata": {},
   "source": [
    "What if you pass something like this where it is not in the form of a dictionary? Or some key or some values are missing? Let's see."
   ]
  },
  {
   "cell_type": "code",
   "execution_count": 62,
   "id": "7e4628d8",
   "metadata": {},
   "outputs": [],
   "source": [
    "debug_response_assistant_n = \"\"\"\n",
    "Thank you for providing your budget.\n",
    "Based on your budget of 15000, I will consider this while recommending suitable mobile options for you.\n",
    "Here is the final recommendation for your mobile phone:\n",
    "\n",
    "- Budget: 15000\n",
    "- Rating: high\n",
    "- RAM Size: 4\n",
    "- Storage: 64\n",
    "- Front Camera: 'medium'\n",
    "- Rear Camera: 'high'\n",
    "- Display Size (inch): 5.5,\n",
    "- Battery Life: low\n",
    "\n",
    "Please note that these specifications are based on your requirements for a mobile phone.\n",
    "Let me know if there's anything else I can assist you with!\n",
    "\"\"\""
   ]
  },
  {
   "cell_type": "code",
   "execution_count": 63,
   "id": "3d80fb6d",
   "metadata": {},
   "outputs": [
    {
     "data": {
      "text/plain": [
       "{'Budget': 15000,\n",
       " 'Rating': 'high',\n",
       " 'RAM Size': 4,\n",
       " 'Storage': 64,\n",
       " 'Front Camera': 'medium',\n",
       " 'Rear Camera': 'high',\n",
       " 'Display Size (inch)': 5.5,\n",
       " 'Battery Life': 'low'}"
      ]
     },
     "metadata": {},
     "output_type": "display_data"
    }
   ],
   "source": [
    "response_dict_n = dictionary_present(debug_response_assistant_n)\n",
    "display(response_dict_n)"
   ]
  },
  {
   "cell_type": "code",
   "execution_count": 64,
   "id": "fd8638f7",
   "metadata": {},
   "outputs": [
    {
     "data": {
      "text/plain": [
       "dict"
      ]
     },
     "execution_count": 64,
     "metadata": {},
     "output_type": "execute_result"
    }
   ],
   "source": [
    "type(response_dict_n)"
   ]
  },
  {
   "cell_type": "code",
   "execution_count": 65,
   "id": "16eaf9e1",
   "metadata": {
    "scrolled": true
   },
   "outputs": [
    {
     "name": "stdout",
     "output_type": "stream",
     "text": [
      "Iteration: 0\n",
      "{'Budget': 15000, 'Rating': 'high', 'RAM Size': 4, 'Storage': 64, 'Front Camera': 'medium', 'Rear Camera': 'high', 'Display Size (inch)': 5.5, 'Battery Life': 'low'}\n",
      "--------------------------------------------------\n",
      "Iteration: 1\n",
      "{'Budget': 15000, 'Rating': 'high', 'RAM Size': 4, 'Storage': 64, 'Front Camera': 'medium', 'Rear Camera': 'high', 'Display Size (inch)': 5.5, 'Battery Life': 'low'}\n",
      "--------------------------------------------------\n",
      "Iteration: 2\n",
      "{'Budget': 15000, 'Rating': 'high', 'RAM Size': 4, 'Storage': 64, 'Front Camera': 'medium', 'Rear Camera': 'high', 'Display Size (inch)': 5.5, 'Battery Life': 'low'}\n",
      "--------------------------------------------------\n",
      "Iteration: 3\n",
      "{'Budget': 15000, 'Rating': 'high', 'RAM Size': 4, 'Storage': 64, 'Front Camera': 'medium', 'Rear Camera': 'high', 'Display Size (inch)': 5.5, 'Battery Life': 'low'}\n",
      "--------------------------------------------------\n",
      "Iteration: 4\n",
      "{'Budget': 15000, 'Rating': 'high', 'RAM Size': 4, 'Storage': 64, 'Front Camera': 'medium', 'Rear Camera': 'high', 'Display Size (inch)': 5.5, 'Battery Life': 'low'}\n",
      "--------------------------------------------------\n",
      "Iteration: 5\n",
      "{'Budget': 15000, 'Rating': 'high', 'RAM Size': 4, 'Storage': 64, 'Front Camera': 'medium', 'Rear Camera': 'high', 'Display Size (inch)': 5.5, 'Battery Life': 'low'}\n",
      "--------------------------------------------------\n",
      "Iteration: 6\n",
      "{'Budget': 15000, 'Rating': 'high', 'RAM Size': 4, 'Storage': 64, 'Front Camera': 'medium', 'Rear Camera': 'high', 'Display Size (inch)': 5.5, 'Battery Life': 'low'}\n",
      "--------------------------------------------------\n",
      "Iteration: 7\n",
      "{'Budget': 15000, 'Rating': 'high', 'RAM Size': 4, 'Storage': 64, 'Front Camera': 'medium', 'Rear Camera': 'high', 'Display Size (inch)': 5.5, 'Battery Life': 'low'}\n",
      "--------------------------------------------------\n",
      "Iteration: 8\n",
      "{'Budget': 15000, 'Rating': 'high', 'RAM Size': 4, 'Storage': 64, 'Front Camera': 'medium', 'Rear Camera': 'high', 'Display Size (inch)': 5.5, 'Battery Life': 'low'}\n",
      "--------------------------------------------------\n",
      "Iteration: 9\n",
      "{'Budget': 15000, 'Rating': 'high', 'RAM Size': 4, 'Storage': 64, 'Front Camera': 'medium', 'Rear Camera': 'high', 'Display Size (inch)': 5.5, 'Battery Life': 'low'}\n",
      "--------------------------------------------------\n"
     ]
    }
   ],
   "source": [
    "# Check for LLM function's consistency\n",
    "iterate_llm_response(dictionary_present, debug_response_assistant_n)"
   ]
  },
  {
   "cell_type": "markdown",
   "id": "580abbd8",
   "metadata": {},
   "source": [
    "Let's quickly take a look at the code that we have run until now."
   ]
  },
  {
   "cell_type": "code",
   "execution_count": 66,
   "id": "708cd8e6",
   "metadata": {},
   "outputs": [
    {
     "data": {
      "text/plain": [
       "[{'role': 'system',\n",
       "  'content': '\\n    You are an intelligent mobile gadget expert and your goal is to find the best mobile phone for a user.\\n    You need to ask relevant questions and understand the user\\'s profile by analyzing the user\\'s responses. \\n    Your final objective is to fill the values for the different keys in the Python dictionary and be confident of the values.\\n    These key-value pairs define the user\\'s profile.\\n    ####\\n    The Python dictionary looks like this:\\n    {\\n        \\'Budget\\': -,\\n        \\'Rating\\': -,\\n        \\'RAM Size\\': -,\\n        \\'Storage\\': -,\\n        \\'Rear Camera\\': -,\\n        \\'Front Camera\\': -,\\n        \\'Display Size (inch)\\': -,\\n        \\'Battery Life\\': -\\n    }\\n    ####\\n    The values for \\'Battery Life\\' should be \\'long\\' , \\'short\\', \\'medium\\' based on the importance of user\\'s mobile usage.\\n    The values for \\'Rear Camera\\' and \\'Front Camera\\' should be \\'low\\', \\'medium\\', or \\'high\\' based on the importance of camera \\n    quality to the user. All the values in the example dictionary are only representative values.\\n    ####\\n    Here are some instructions around the values for the different keys. If you do not follow this, you\\'ll be heavily penalized:\\n    - The values for \\'Budget\\', \\'RAM Size\\', \\'Storage\\', and \\'Display Size (inch)\\' should be numerical values extracted from the\\n    user\\'s response.\\n    - \\'Budget\\' should be greater than or equal to 1000. If the user mentions less than that, please inform them that there are\\n    no mobile phones in that range.\\n    - Do not randomly assign values to any of the keys.\\n    - The values need to be inferred from the user\\'s response.\\n    ####\\n\\n    To fill the dictionary, you need to have the following chain of thoughts:\\n    Follow the chain-of-thoughts below and only output the final updated Python dictionary for the keys as described in the example_user_req.\\n    ####\\n    Thought 1: Ask a question to understand the user\\'s requirements. If their primary requirements for the mobile phone are\\n    unclear, ask follow-up questions to understand their needs. You are trying to fill the values of all the keys\\n    {\\'Rear Camera\\', \\'Front Camera\\', \\'Rating\\', \\'RAM Size\\', \\'Storage\\', \\'Display Size (inch)\\', \\'Battery Life\\',\\'Budget\\'} in the Python dictionary by understanding the user requirements. Identify the keys for which you can fill the values confidently using the understanding. Remember the instructions around the values for the different keys. If the necessary information has been extracted, only then proceed to the next step. Otherwise, rephrase the question to capture their profile clearly.\\n    ####\\n    Thought 2: Now, you are trying to fill the values for the rest of the keys which you couldn\\'t in the previous step. \\n    Remember the instructions around the values for the different keys. Ask questions you might have for all the keys to\\n    strengthen your understanding of the user\\'s profile. If yes, move to the next Thought. If no, ask questions on the keys\\n    whose values you are unsure of. It is a good practice to ask questions with sound logic as opposed to directly citing the \\n    key you want to understand the value for.\\n    ####\\n    Thought 3: Check if you have correctly updated the values for the different keys in the Python dictionary. \\n    If you are not confident about any of the values, ask clarifying questions.\\n    ####\\n\\n    Here is a sample conversation between the user and assistant:\\n    User: \"Hi, I need a new mobile phone.\"\\n    Assistant: \"Hello! I\\'d be happy to help you find the perfect mobile phone. To start, could you tell me a bit about how you use your phone? For example, do you use it more for photography, gaming, or everyday tasks?\"\\n    User: \"I mostly use it for photography and social media.\"\\n    Assistant: \"Great! Since you prioritize photography, we\\'ll focus on phones with good camera quality. Could you let me know your preferences for rear and front camera quality? Do you have a preference for a specific brand or any other features?\"\\n    User: \"I prefer high quality for both rear and front cameras, and I like to use Samsung phones.\"\\n    Assistant: \"Got it. High camera quality and a preference for Samsung. What about the other features like RAM size, storage capacity, and battery life? Do you have any specific requirements or preferences for those?\"\\n    User: \"I need at least 4GB of RAM and 64GB of storage. For battery, I prefer a high battery life.\"\\n    Assistant: \"Thanks for the details. One last thing: what\\'s your budget for the new phone?\"\\n    User: \"My budget is around 20000.\"\\n    Assistant: \"{\\'Budget\\': \\'-\\', \\'Rating\\': \\'-\\', \\'RAM Size\\': \\'-\\', \\'Storage\\': \\'-\\', \\'Rear Camera\\': \\'-\\', \\'Front Camera\\': \\'-\\', \\'Display Size (inch)\\': \\'-\\', \\'Battery Life\\': \\'-\\'}\"\\n    ####\\n\\n    Start with a short welcome message and encourage the user to share their requirements.\\n    '},\n",
       " {'role': 'user', 'content': 'Hi, I am Anand. I need a new mobile phone.'},\n",
       " {'role': 'system',\n",
       "  'content': \"Hello Anand! I'd be happy to help you find the perfect mobile phone. To start, could you tell me a bit about how you use your phone? For example, do you use it more for photography, gaming, or everyday tasks? This will help me understand your requirements better.\"},\n",
       " {'role': 'assistant',\n",
       "  'content': \"Hello Anand! I'd be happy to help you find the perfect mobile phone. To start, could you tell me a bit about how you use your phone? For example, do you use it more for photography, gaming, or everyday tasks? This will help me understand your requirements better.\"}]"
      ]
     },
     "execution_count": 66,
     "metadata": {},
     "output_type": "execute_result"
    }
   ],
   "source": [
    "debug_conversation"
   ]
  },
  {
   "cell_type": "code",
   "execution_count": 67,
   "id": "dbf9d81c",
   "metadata": {},
   "outputs": [
    {
     "name": "stdout",
     "output_type": "stream",
     "text": [
      "{'Budget': 15000, 'Rating': 'high', 'RAM Size': 4, 'Storage': 64, 'Front Camera': 'medium', 'Rear Camera': 'high', 'Display Size (inch)': 5.5, 'Battery Life': 'low'}\n"
     ]
    }
   ],
   "source": [
    "debug_conversation = initialize_conversation()\n",
    "debug_user_input = \"Hi, I am Anand. I need a new mobile phone.\"\n",
    "debug_moderation = moderation_check(debug_user_input)\n",
    "debug_conversation.append({\"role\": \"user\", \"content\": debug_user_input})\n",
    "debug_response_assistant = get_chat_completions(debug_conversation)\n",
    "debug_moderation = moderation_check(debug_response_assistant)\n",
    "debug_conversation.append({\"role\": \"assistant\", \"content\": debug_response_assistant})\n",
    "debug_confirmation = intent_confirmation_layer(debug_response_assistant)\n",
    "# After a series of conversation...\n",
    "response_dict_n = dictionary_present(debug_response_assistant_n)\n",
    "print(response_dict_n)"
   ]
  },
  {
   "cell_type": "markdown",
   "id": "5c3f6866",
   "metadata": {},
   "source": [
    "So, now that you have the user profile stored in `response_dict_n`. We'll use this to generate recommendations. Before that, we need to create a similar profile for every mobile. Let's see how we do it."
   ]
  },
  {
   "cell_type": "markdown",
   "id": "cd4054eb",
   "metadata": {},
   "source": [
    "# STAGE 2:"
   ]
  },
  {
   "cell_type": "markdown",
   "id": "0f356620",
   "metadata": {},
   "source": [
    "### `product_map_layer()`:\n",
    "\n",
    "This function is responsible for extracting key features and criteria from mobile_data. Here's a breakdown of how it works:\n",
    "\n",
    "-  Use a prompt that assign it the role of a mobile Specifications Classifier, whose objective is to extract key features and classify them based on mobile features.\n",
    "\n",
    "- Provide step-by-step instructions for extracting mobile features from dataset.\n",
    "\n",
    "- Assign specific rules for each feature (e.g., Rear Camera, Front Camera,  Rating) and associate them with the appropriate classification value (Low, Medium, or High) and for Battery Life (long, short,medium).\n",
    "\n",
    "- Includes Few Shot Prompting (sample conversation between the user and assistant) to demonstrate the expected result of the feature extraction and classification process."
   ]
  },
  {
   "cell_type": "code",
   "execution_count": 68,
   "id": "3315d63c",
   "metadata": {},
   "outputs": [
    {
     "data": {
      "text/html": [
       "<div>\n",
       "<style scoped>\n",
       "    .dataframe tbody tr th:only-of-type {\n",
       "        vertical-align: middle;\n",
       "    }\n",
       "\n",
       "    .dataframe tbody tr th {\n",
       "        vertical-align: top;\n",
       "    }\n",
       "\n",
       "    .dataframe thead th {\n",
       "        text-align: right;\n",
       "    }\n",
       "</style>\n",
       "<table border=\"1\" class=\"dataframe\">\n",
       "  <thead>\n",
       "    <tr style=\"text-align: right;\">\n",
       "      <th></th>\n",
       "      <th>Price</th>\n",
       "      <th>Rating</th>\n",
       "      <th>Battery</th>\n",
       "      <th>Processor</th>\n",
       "      <th>RAM Size</th>\n",
       "      <th>Storage</th>\n",
       "      <th>Expandable Storage</th>\n",
       "      <th>Brand</th>\n",
       "      <th>Model</th>\n",
       "      <th>Color</th>\n",
       "      <th>Rear Camera</th>\n",
       "      <th>Front Camera</th>\n",
       "      <th>Display Size (inch)</th>\n",
       "      <th>Display Type</th>\n",
       "      <th>Features</th>\n",
       "    </tr>\n",
       "  </thead>\n",
       "  <tbody>\n",
       "    <tr>\n",
       "      <th>0</th>\n",
       "      <td>10999</td>\n",
       "      <td>4.4</td>\n",
       "      <td>5000.0</td>\n",
       "      <td>Unisoc T618 Processor</td>\n",
       "      <td>4.0</td>\n",
       "      <td>64.0</td>\n",
       "      <td>183.128597</td>\n",
       "      <td>realme</td>\n",
       "      <td>C25_Y</td>\n",
       "      <td>Metal Grey</td>\n",
       "      <td>50MP + 2MP + 2MP</td>\n",
       "      <td>8MP Front Camera</td>\n",
       "      <td>6.50</td>\n",
       "      <td>HD+ Display</td>\n",
       "      <td>{'Price': 10999, 'Rating': 'high', 'Battery': ...</td>\n",
       "    </tr>\n",
       "    <tr>\n",
       "      <th>1</th>\n",
       "      <td>11999</td>\n",
       "      <td>4.4</td>\n",
       "      <td>5000.0</td>\n",
       "      <td>Unisoc T618 Processor</td>\n",
       "      <td>4.0</td>\n",
       "      <td>128.0</td>\n",
       "      <td>183.128597</td>\n",
       "      <td>realme</td>\n",
       "      <td>C25_Y</td>\n",
       "      <td>Metal Grey</td>\n",
       "      <td>50MP + 2MP + 2MP</td>\n",
       "      <td>8MP Front Camera</td>\n",
       "      <td>6.50</td>\n",
       "      <td>HD+ Display</td>\n",
       "      <td>{'Price': 11999, 'Rating': 'high', 'Battery': ...</td>\n",
       "    </tr>\n",
       "    <tr>\n",
       "      <th>2</th>\n",
       "      <td>9299</td>\n",
       "      <td>4.6</td>\n",
       "      <td>5000.0</td>\n",
       "      <td>Unisoc T612 Processor</td>\n",
       "      <td>3.0</td>\n",
       "      <td>32.0</td>\n",
       "      <td>1.000000</td>\n",
       "      <td>realme</td>\n",
       "      <td>C31</td>\n",
       "      <td>Dark Green</td>\n",
       "      <td>13MP + 2MP + 0.3MP</td>\n",
       "      <td>5MP Front Camera</td>\n",
       "      <td>6.52</td>\n",
       "      <td>HD Display</td>\n",
       "      <td>{'Price': 9299, 'Rating': 'high', 'Battery': '...</td>\n",
       "    </tr>\n",
       "    <tr>\n",
       "      <th>3</th>\n",
       "      <td>9299</td>\n",
       "      <td>4.6</td>\n",
       "      <td>5000.0</td>\n",
       "      <td>Unisoc T612 Processor</td>\n",
       "      <td>3.0</td>\n",
       "      <td>32.0</td>\n",
       "      <td>1.000000</td>\n",
       "      <td>realme</td>\n",
       "      <td>C31</td>\n",
       "      <td>Light Silver</td>\n",
       "      <td>13MP + 2MP + 0.3MP</td>\n",
       "      <td>5MP Front Camera</td>\n",
       "      <td>6.52</td>\n",
       "      <td>HD Display</td>\n",
       "      <td>{'Price': 9299, 'Rating': 'high', 'Battery': '...</td>\n",
       "    </tr>\n",
       "    <tr>\n",
       "      <th>4</th>\n",
       "      <td>9999</td>\n",
       "      <td>4.4</td>\n",
       "      <td>5000.0</td>\n",
       "      <td>Unisoc T612 Processor</td>\n",
       "      <td>4.0</td>\n",
       "      <td>64.0</td>\n",
       "      <td>1.000000</td>\n",
       "      <td>realme</td>\n",
       "      <td>C31</td>\n",
       "      <td>Dark Green</td>\n",
       "      <td>13MP + 2MP + 0.3MP</td>\n",
       "      <td>5MP Front Camera</td>\n",
       "      <td>6.52</td>\n",
       "      <td>HD Display</td>\n",
       "      <td>{'Price': 9999, 'Rating': 'high', 'Battery': '...</td>\n",
       "    </tr>\n",
       "  </tbody>\n",
       "</table>\n",
       "</div>"
      ],
      "text/plain": [
       "   Price  Rating  Battery              Processor  RAM Size  Storage  Expandable Storage   Brand  \\\n",
       "0  10999     4.4   5000.0  Unisoc T618 Processor       4.0     64.0          183.128597  realme   \n",
       "1  11999     4.4   5000.0  Unisoc T618 Processor       4.0    128.0          183.128597  realme   \n",
       "2   9299     4.6   5000.0  Unisoc T612 Processor       3.0     32.0            1.000000  realme   \n",
       "3   9299     4.6   5000.0  Unisoc T612 Processor       3.0     32.0            1.000000  realme   \n",
       "4   9999     4.4   5000.0  Unisoc T612 Processor       4.0     64.0            1.000000  realme   \n",
       "\n",
       "   Model         Color         Rear Camera      Front Camera  Display Size (inch) Display Type  \\\n",
       "0  C25_Y    Metal Grey    50MP + 2MP + 2MP  8MP Front Camera                 6.50  HD+ Display   \n",
       "1  C25_Y    Metal Grey    50MP + 2MP + 2MP  8MP Front Camera                 6.50  HD+ Display   \n",
       "2    C31    Dark Green  13MP + 2MP + 0.3MP  5MP Front Camera                 6.52   HD Display   \n",
       "3    C31  Light Silver  13MP + 2MP + 0.3MP  5MP Front Camera                 6.52   HD Display   \n",
       "4    C31    Dark Green  13MP + 2MP + 0.3MP  5MP Front Camera                 6.52   HD Display   \n",
       "\n",
       "                                            Features  \n",
       "0  {'Price': 10999, 'Rating': 'high', 'Battery': ...  \n",
       "1  {'Price': 11999, 'Rating': 'high', 'Battery': ...  \n",
       "2  {'Price': 9299, 'Rating': 'high', 'Battery': '...  \n",
       "3  {'Price': 9299, 'Rating': 'high', 'Battery': '...  \n",
       "4  {'Price': 9999, 'Rating': 'high', 'Battery': '...  "
      ]
     },
     "execution_count": 68,
     "metadata": {},
     "output_type": "execute_result"
    }
   ],
   "source": [
    "def product_map_layer(mobile_description):\n",
    "    delimiter = \"#####\"\n",
    "    \n",
    "    # Determine rating category\n",
    "    if mobile_description['Rating'] >= 4:\n",
    "        rating_category = \"high\"\n",
    "    elif 2 <= mobile_description['Rating'] < 4:\n",
    "        rating_category = \"medium\"\n",
    "    else:\n",
    "        rating_category = \"low\"\n",
    "    \n",
    "    # Determine battery category\n",
    "    if mobile_description['Battery'] >= 5000:\n",
    "        battery_category = \"long\"\n",
    "    elif mobile_description['Battery'] < 2000:\n",
    "        battery_category = \"short\"\n",
    "    else:\n",
    "        battery_category = \"medium\"\n",
    "    \n",
    "    mob_spec = {\n",
    "        \"Price\": mobile_description['Price'],\n",
    "        \"Rating\": rating_category,\n",
    "        \"Battery\": battery_category,\n",
    "        \"Processor\": mobile_description['Processor'],\n",
    "        \"RAM Size\": mobile_description['RAM Size'],\n",
    "        \"Storage\": mobile_description['Storage'],\n",
    "        \"Expandable Storage\": mobile_description['Expandable Storage'],\n",
    "        \"Brand\": mobile_description['Brand'],\n",
    "        \"Model\": mobile_description['Model'],\n",
    "        \"Color\": mobile_description['Color'],\n",
    "        \"Rear Camera\": \"high\",  # Adjust as needed based on your criteria\n",
    "        \"Front Camera\": \"high\",  # Adjust as needed based on your criteria\n",
    "        \"Display Size (inch)\": mobile_description['Display Size (inch)'],\n",
    "        \"Display Type\": mobile_description['Display Type']\n",
    "    }\n",
    "    \n",
    "    prompt = f\"\"\"\n",
    "    {delimiter}\n",
    "    Rear Camera:\n",
    "    - high: If the Rear camera resolution is 48 MP or higher.\n",
    "    - medium: If the Rear camera resolution is between 12 MP and 48 MP.\n",
    "    - low: If the Rear camera resolution is below 12 MP.\n",
    "    {delimiter}\n",
    "    \n",
    "    {delimiter}\n",
    "    Front Camera:\n",
    "    - low: <<< If Front Camera is <5 MP >>> , \\n\n",
    "    - medium: <<< if Front Camera is >=5 MP >>> , \\n\n",
    "    - high: <<< if Front Camera is > 8 MP >>> \\n\n",
    "    {delimiter}\n",
    "    \n",
    "    {delimiter}\n",
    "    Battery:\n",
    "    - high: If the battery capacity is 5000 mAh or higher.\n",
    "    - medium: If the battery capacity is between 2000 mAh and 5000 mAh.\n",
    "    - low: If the battery capacity is below 2000 mAh.\n",
    "    {delimiter}\n",
    "    \"\"\"\n",
    "    \n",
    "    return mob_spec\n",
    "\n",
    "# Apply the function to each row to create the 'Features' column\n",
    "mobile_data['Features'] = mobile_data.apply(product_map_layer, axis=1)\n",
    "\n",
    "# Display the updated DataFrame\n",
    "mobile_data.head()"
   ]
  },
  {
   "cell_type": "markdown",
   "id": "d8f2ee2f",
   "metadata": {},
   "source": [
    "Let's test this for one sample mobile feature."
   ]
  },
  {
   "cell_type": "code",
   "execution_count": 69,
   "id": "4c092a0f",
   "metadata": {},
   "outputs": [
    {
     "data": {
      "text/plain": [
       "{'Price': 10999,\n",
       " 'Rating': 'high',\n",
       " 'Battery': 'long',\n",
       " 'Processor': 'Unisoc T618 Processor',\n",
       " 'RAM Size': 4.0,\n",
       " 'Storage': 64.0,\n",
       " 'Expandable Storage': 183.12859744990894,\n",
       " 'Brand': 'realme',\n",
       " 'Model': 'C25_Y',\n",
       " 'Color': 'Metal Grey',\n",
       " 'Rear Camera': 'high',\n",
       " 'Front Camera': 'high',\n",
       " 'Display Size (inch)': 6.5,\n",
       " 'Display Type': 'HD+ Display'}"
      ]
     },
     "execution_count": 69,
     "metadata": {},
     "output_type": "execute_result"
    }
   ],
   "source": [
    "mobile_data[\"Features\"][0]"
   ]
  },
  {
   "cell_type": "code",
   "execution_count": 70,
   "id": "72dd885f",
   "metadata": {},
   "outputs": [
    {
     "name": "stdout",
     "output_type": "stream",
     "text": [
      "<class 'dict'>\n"
     ]
    }
   ],
   "source": [
    "print(type(mobile_data[\"Features\"][0]))"
   ]
  },
  {
   "cell_type": "markdown",
   "id": "29eed6ac",
   "metadata": {},
   "source": [
    "Let's save this new dataset in csv file."
   ]
  },
  {
   "cell_type": "code",
   "execution_count": 71,
   "id": "9042d01c",
   "metadata": {},
   "outputs": [],
   "source": [
    "mobile_data.to_csv(\"updated_mob.csv\",index=False, header=True)"
   ]
  },
  {
   "cell_type": "markdown",
   "id": "f16d4a80",
   "metadata": {},
   "source": [
    "### `compare_laptops_with_user()`:\n",
    "\n",
    "This function compares the user's profile with the different mobiles and come back with the top  recommendations. It will perform the following steps:\n",
    "    - It will take the user requirements dictionary as input\n",
    "    - Filter the mobiles based on their price, keeping only the ones within the user's budget.\n",
    "    - Calculate a score for each mobile based on how well it matches the user's requirements.\n",
    "    - Sort the mobiles based on their scores in descending order.\n",
    "    - Return the top 3 mobiles as a JSON-formatted string."
   ]
  },
  {
   "cell_type": "code",
   "execution_count": 72,
   "id": "f8f43ee1",
   "metadata": {},
   "outputs": [],
   "source": [
    "import pandas as pd\n",
    "import json\n",
    "\n",
    "def compare_mobiles_with_user(user_req_string):\n",
    "    mobile_data = pd.read_csv('updated_mob.csv')\n",
    "\n",
    "    # Parse the user requirements from the input string (assuming it's a JSON string)\n",
    "    user_requirements = user_req_string\n",
    "   # user_requirements = json.loads(user_req_string) \n",
    "    # Extract the budget value from user requirements and convert it to an integer\n",
    "    budget = int(user_requirements.get('Budget', '0'))\n",
    "    \n",
    "    # Filter mobiles based on the budget\n",
    "    filtered_mobiles = mobile_data.copy()\n",
    "   # filtered_mobiles['Price'] = filtered_mobiles['Price'].str.replace(',', '').astype(int)\n",
    "    filtered_mobiles = filtered_mobiles[filtered_mobiles['Price'] <= budget].copy()\n",
    "    \n",
    "    # Map string values 'low', 'medium', 'high' to numerical scores 0, 1, 2\n",
    "    mappings = {'low': 0, 'medium': 1, 'high': 2}\n",
    "\n",
    "    # Create a new column 'Score' in the filtered DataFrame and initialize it to 0\n",
    "    filtered_mobiles['Score'] = 0\n",
    "\n",
    "    # Iterate over each mobile in the filtered DataFrame to calculate scores based on user requirements\n",
    "    for index, row in filtered_mobiles.iterrows():\n",
    "        user_product_match_str = row['Features']\n",
    "        mobile_values = user_product_match_str\n",
    "        mobile_values = dictionary_present(user_product_match_str)\n",
    "        score = 0\n",
    "\n",
    "        # Compare user requirements with mobile features and update scores\n",
    "        for key, user_value in user_requirements.items():\n",
    "            if key == 'budget':\n",
    "                continue  # Skip budget comparison\n",
    "\n",
    "            mobile_value = mobile_values.get(key, None)\n",
    "            mobile_mapping = mappings.get(mobile_value, -1)\n",
    "            user_mapping = mappings.get(user_value, -1)\n",
    "            if mobile_mapping >= user_mapping:\n",
    "                score += 1  # Increment score if mobile value meets or exceeds user value\n",
    "\n",
    "        filtered_mobiles.loc[index, 'Score'] = score  # Update the 'Score' column in the DataFrame\n",
    "\n",
    "    # Sort mobiles by score in descending order and select the top 3 products\n",
    "    top_mobiles = filtered_mobiles.drop('Features', axis=1)\n",
    "    top_mobiles = top_mobiles.sort_values('Score', ascending=False).head(3)\n",
    "    top_mobiles_json = top_mobiles.to_json(orient='records')  # Convert the top mobiles DataFrame to JSON format\n",
    "\n",
    "    return top_mobiles_json\n",
    "\n"
   ]
  },
  {
   "cell_type": "code",
   "execution_count": 73,
   "id": "38108865",
   "metadata": {},
   "outputs": [
    {
     "data": {
      "text/plain": [
       "{'Budget': 15000,\n",
       " 'Rating': 'high',\n",
       " 'RAM Size': 4,\n",
       " 'Storage': 64,\n",
       " 'Front Camera': 'medium',\n",
       " 'Rear Camera': 'high',\n",
       " 'Display Size (inch)': 5.5,\n",
       " 'Battery Life': 'low'}"
      ]
     },
     "metadata": {},
     "output_type": "display_data"
    },
    {
     "data": {
      "text/plain": [
       "'\\n'"
      ]
     },
     "metadata": {},
     "output_type": "display_data"
    },
    {
     "data": {
      "text/plain": [
       "dict"
      ]
     },
     "metadata": {},
     "output_type": "display_data"
    }
   ],
   "source": [
    "display(response_dict_n, '\\n',type(response_dict_n))"
   ]
  },
  {
   "cell_type": "code",
   "execution_count": 74,
   "id": "c447f8a5",
   "metadata": {},
   "outputs": [
    {
     "data": {
      "text/plain": [
       "{'Budget': 15000,\n",
       " 'Rating': 'high',\n",
       " 'RAM Size': 4,\n",
       " 'Storage': 64,\n",
       " 'Rear Camera': 'high',\n",
       " 'Front Camera': 'medium',\n",
       " 'Display Size (inch)': 5.5,\n",
       " 'Battery Life': 'low'}"
      ]
     },
     "execution_count": 74,
     "metadata": {},
     "output_type": "execute_result"
    }
   ],
   "source": [
    "dictionary_present(response_dict_n)"
   ]
  },
  {
   "cell_type": "code",
   "execution_count": 75,
   "id": "964a9fd5",
   "metadata": {},
   "outputs": [
    {
     "data": {
      "text/plain": [
       "'[{\"Price\":10290,\"Rating\":4.4,\"Battery\":4000.0,\"Processor\":\"Qualcomm Snapdragon 632 Processor\",\"RAM Size\":3.0,\"Storage\":32.0,\"Expandable Storage\":512.0,\"Brand\":\"Redmi\",\"Model\":\"Y3\",\"Color\":\"Prime Black\",\"Rear Camera\":\"12MP + 2MP\",\"Front Camera\":\"32MP Front Camera\",\"Display Size (inch)\":6.26,\"Display Type\":\"HD+ Display\",\"Score\":8},{\"Price\":14999,\"Rating\":4.3,\"Battery\":4850.0,\"Processor\":\"Qualcomm Snapdragon 650 64-bit Processor\",\"RAM Size\":3.0,\"Storage\":32.0,\"Expandable Storage\":128.0,\"Brand\":\"Mi\",\"Model\":\"Max\",\"Color\":\"Gold\",\"Rear Camera\":\"16MP Rear Camera\",\"Front Camera\":\"5MP Front Camera\",\"Display Size (inch)\":6.44,\"Display Type\":\"Full HD Display\",\"Score\":8},{\"Price\":10499,\"Rating\":4.5,\"Battery\":3080.0,\"Processor\":\"Qualcomm Snapdragon 625 Processor\",\"RAM Size\":3.0,\"Storage\":32.0,\"Expandable Storage\":256.0,\"Brand\":\"Redmi\",\"Model\":\"Y2\",\"Color\":\"Blue\",\"Rear Camera\":\"12MP + 5MP\",\"Front Camera\":\"16MP Front Camera\",\"Display Size (inch)\":5.99,\"Display Type\":\"HD+ Display\",\"Score\":8}]'"
      ]
     },
     "metadata": {},
     "output_type": "display_data"
    }
   ],
   "source": [
    "top_3_mobiles = compare_mobiles_with_user(response_dict_n)\n",
    "\n",
    "display(top_3_mobiles)"
   ]
  },
  {
   "cell_type": "code",
   "execution_count": 76,
   "id": "6465b5e8",
   "metadata": {},
   "outputs": [
    {
     "data": {
      "text/plain": [
       "[{'Price': 10290,\n",
       "  'Rating': 4.4,\n",
       "  'Battery': 4000.0,\n",
       "  'Processor': 'Qualcomm Snapdragon 632 Processor',\n",
       "  'RAM Size': 3.0,\n",
       "  'Storage': 32.0,\n",
       "  'Expandable Storage': 512.0,\n",
       "  'Brand': 'Redmi',\n",
       "  'Model': 'Y3',\n",
       "  'Color': 'Prime Black',\n",
       "  'Rear Camera': '12MP + 2MP',\n",
       "  'Front Camera': '32MP Front Camera',\n",
       "  'Display Size (inch)': 6.26,\n",
       "  'Display Type': 'HD+ Display',\n",
       "  'Score': 8},\n",
       " {'Price': 14999,\n",
       "  'Rating': 4.3,\n",
       "  'Battery': 4850.0,\n",
       "  'Processor': 'Qualcomm Snapdragon 650 64-bit Processor',\n",
       "  'RAM Size': 3.0,\n",
       "  'Storage': 32.0,\n",
       "  'Expandable Storage': 128.0,\n",
       "  'Brand': 'Mi',\n",
       "  'Model': 'Max',\n",
       "  'Color': 'Gold',\n",
       "  'Rear Camera': '16MP Rear Camera',\n",
       "  'Front Camera': '5MP Front Camera',\n",
       "  'Display Size (inch)': 6.44,\n",
       "  'Display Type': 'Full HD Display',\n",
       "  'Score': 8},\n",
       " {'Price': 10499,\n",
       "  'Rating': 4.5,\n",
       "  'Battery': 3080.0,\n",
       "  'Processor': 'Qualcomm Snapdragon 625 Processor',\n",
       "  'RAM Size': 3.0,\n",
       "  'Storage': 32.0,\n",
       "  'Expandable Storage': 256.0,\n",
       "  'Brand': 'Redmi',\n",
       "  'Model': 'Y2',\n",
       "  'Color': 'Blue',\n",
       "  'Rear Camera': '12MP + 5MP',\n",
       "  'Front Camera': '16MP Front Camera',\n",
       "  'Display Size (inch)': 5.99,\n",
       "  'Display Type': 'HD+ Display',\n",
       "  'Score': 8}]"
      ]
     },
     "execution_count": 76,
     "metadata": {},
     "output_type": "execute_result"
    }
   ],
   "source": [
    "# Get output in JSON Format\n",
    "top_3_mobiles_json = json.loads(top_3_mobiles)\n",
    "# type(top_3_mobiles_json)\n",
    "top_3_mobiles_json"
   ]
  },
  {
   "cell_type": "markdown",
   "id": "32695761",
   "metadata": {},
   "source": [
    "### `product_validation_layer()`:\n",
    "\n",
    "This function verifies that the laptop recommendations are good enough, has score greater than 2, and matches the user's requirements."
   ]
  },
  {
   "cell_type": "code",
   "execution_count": 77,
   "id": "80cddf84",
   "metadata": {},
   "outputs": [],
   "source": [
    "def recommendation_validation(mobile_recommendation):\n",
    "    m_data = json.loads(mobile_recommendation)\n",
    "    data1 = []\n",
    "    for i in range(len(m_data)):\n",
    "        if m_data[i]['Score'] > 2:\n",
    "            data1.append(m_data[i])\n",
    "\n",
    "    return data1"
   ]
  },
  {
   "cell_type": "code",
   "execution_count": 78,
   "id": "789211d5",
   "metadata": {},
   "outputs": [
    {
     "data": {
      "text/plain": [
       "[{'Price': 10290,\n",
       "  'Rating': 4.4,\n",
       "  'Battery': 4000.0,\n",
       "  'Processor': 'Qualcomm Snapdragon 632 Processor',\n",
       "  'RAM Size': 3.0,\n",
       "  'Storage': 32.0,\n",
       "  'Expandable Storage': 512.0,\n",
       "  'Brand': 'Redmi',\n",
       "  'Model': 'Y3',\n",
       "  'Color': 'Prime Black',\n",
       "  'Rear Camera': '12MP + 2MP',\n",
       "  'Front Camera': '32MP Front Camera',\n",
       "  'Display Size (inch)': 6.26,\n",
       "  'Display Type': 'HD+ Display',\n",
       "  'Score': 8},\n",
       " {'Price': 14999,\n",
       "  'Rating': 4.3,\n",
       "  'Battery': 4850.0,\n",
       "  'Processor': 'Qualcomm Snapdragon 650 64-bit Processor',\n",
       "  'RAM Size': 3.0,\n",
       "  'Storage': 32.0,\n",
       "  'Expandable Storage': 128.0,\n",
       "  'Brand': 'Mi',\n",
       "  'Model': 'Max',\n",
       "  'Color': 'Gold',\n",
       "  'Rear Camera': '16MP Rear Camera',\n",
       "  'Front Camera': '5MP Front Camera',\n",
       "  'Display Size (inch)': 6.44,\n",
       "  'Display Type': 'Full HD Display',\n",
       "  'Score': 8},\n",
       " {'Price': 10499,\n",
       "  'Rating': 4.5,\n",
       "  'Battery': 3080.0,\n",
       "  'Processor': 'Qualcomm Snapdragon 625 Processor',\n",
       "  'RAM Size': 3.0,\n",
       "  'Storage': 32.0,\n",
       "  'Expandable Storage': 256.0,\n",
       "  'Brand': 'Redmi',\n",
       "  'Model': 'Y2',\n",
       "  'Color': 'Blue',\n",
       "  'Rear Camera': '12MP + 5MP',\n",
       "  'Front Camera': '16MP Front Camera',\n",
       "  'Display Size (inch)': 5.99,\n",
       "  'Display Type': 'HD+ Display',\n",
       "  'Score': 8}]"
      ]
     },
     "metadata": {},
     "output_type": "display_data"
    },
    {
     "data": {
      "text/plain": [
       "'\\n'"
      ]
     },
     "metadata": {},
     "output_type": "display_data"
    }
   ],
   "source": [
    "validated_data = recommendation_validation(top_3_mobiles)\n",
    "display(validated_data,'\\n')"
   ]
  },
  {
   "cell_type": "markdown",
   "id": "1b013aca",
   "metadata": {},
   "source": [
    "Now that you the top 3 mobiles extracted, let's pass it to the recommendation layer that'll send it to the user and the user can ask questions around it."
   ]
  },
  {
   "cell_type": "markdown",
   "id": "9a315106",
   "metadata": {},
   "source": [
    "# STAGE3:"
   ]
  },
  {
   "cell_type": "markdown",
   "id": "42433877",
   "metadata": {},
   "source": [
    "### 3.4: Product Recommendation Layer\n",
    "\n",
    "Finally, we come to the product recommendation layer. It takes the output from the `compare_mobiles_with_user` function in the previous layer and provides the recommendations to the user. It has the following steps.\n",
    "1. Initialize the conversation for recommendation.\n",
    "2. Generate the recommendations and display in a presentable format.\n",
    "3. Ask questions basis the recommendations."
   ]
  },
  {
   "cell_type": "code",
   "execution_count": 88,
   "id": "1194ab48",
   "metadata": {},
   "outputs": [],
   "source": [
    "def initialize_conv_reco(products):\n",
    "    system_message = f\"\"\"\n",
    "    You are an intelligent mobile gadget expert and you are tasked with the objective to \\\n",
    "    solve the user queries about any product from the catalogue in the user message \\\n",
    "    You should keep the user profile in mind while answering the questions.\\\n",
    "\n",
    "    Start with a brief summary of each mobile in the following format, in decreasing order of price of mobiles:\n",
    "    1. <Mobile Name> : <Major specifications of the mobile>, <Price in Rs>\n",
    "    2. <Mobile Name> : <Major specifications of the mobile>, <Price in Rs>\n",
    "\n",
    "    \"\"\"\n",
    "    user_message = f\"\"\" These are the user's products: {products}\"\"\"\n",
    "    conversation = [{\"role\": \"system\", \"content\": system_message },\n",
    "                    {\"role\":\"user\",\"content\":user_message}]\n",
    "    # conversation_final = conversation[0]['content']\n",
    "    return conversation"
   ]
  },
  {
   "cell_type": "markdown",
   "id": "8062ea56",
   "metadata": {},
   "source": [
    "Let's initialize the conversation for recommendation."
   ]
  },
  {
   "cell_type": "code",
   "execution_count": 89,
   "id": "5d4edd9a",
   "metadata": {},
   "outputs": [
    {
     "data": {
      "text/plain": [
       "[{'role': 'system',\n",
       "  'content': '\\n    You are an intelligent mobile gadget expert and you are tasked with the objective to     solve the user queries about any product from the catalogue in the user message     You should keep the user profile in mind while answering the questions.\\n    Start with a brief summary of each mobile in the following format, in decreasing order of price of mobiles:\\n    1. <Mobile Name> : <Major specifications of the mobile>, <Price in Rs>\\n    2. <Mobile Name> : <Major specifications of the mobile>, <Price in Rs>\\n\\n    '},\n",
       " {'role': 'user',\n",
       "  'content': ' These are the user\\'s products: [{\"Price\":10290,\"Rating\":4.4,\"Battery\":4000.0,\"Processor\":\"Qualcomm Snapdragon 632 Processor\",\"RAM Size\":3.0,\"Storage\":32.0,\"Expandable Storage\":512.0,\"Brand\":\"Redmi\",\"Model\":\"Y3\",\"Color\":\"Prime Black\",\"Rear Camera\":\"12MP + 2MP\",\"Front Camera\":\"32MP Front Camera\",\"Display Size (inch)\":6.26,\"Display Type\":\"HD+ Display\",\"Score\":8},{\"Price\":14999,\"Rating\":4.3,\"Battery\":4850.0,\"Processor\":\"Qualcomm Snapdragon 650 64-bit Processor\",\"RAM Size\":3.0,\"Storage\":32.0,\"Expandable Storage\":128.0,\"Brand\":\"Mi\",\"Model\":\"Max\",\"Color\":\"Gold\",\"Rear Camera\":\"16MP Rear Camera\",\"Front Camera\":\"5MP Front Camera\",\"Display Size (inch)\":6.44,\"Display Type\":\"Full HD Display\",\"Score\":8},{\"Price\":10499,\"Rating\":4.5,\"Battery\":3080.0,\"Processor\":\"Qualcomm Snapdragon 625 Processor\",\"RAM Size\":3.0,\"Storage\":32.0,\"Expandable Storage\":256.0,\"Brand\":\"Redmi\",\"Model\":\"Y2\",\"Color\":\"Blue\",\"Rear Camera\":\"12MP + 5MP\",\"Front Camera\":\"16MP Front Camera\",\"Display Size (inch)\":5.99,\"Display Type\":\"HD+ Display\",\"Score\":8}]'}]"
      ]
     },
     "execution_count": 89,
     "metadata": {},
     "output_type": "execute_result"
    }
   ],
   "source": [
    "debug_conversation_reco = initialize_conv_reco(top_3_mobiles)\n",
    "debug_conversation_reco"
   ]
  },
  {
   "cell_type": "markdown",
   "id": "ee918c14",
   "metadata": {},
   "source": [
    "Let's see what the assistant responds with the new initialization."
   ]
  },
  {
   "cell_type": "code",
   "execution_count": 90,
   "id": "af218b27",
   "metadata": {},
   "outputs": [
    {
     "name": "stdout",
     "output_type": "stream",
     "text": [
      "Here are the mobiles in your catalogue in decreasing order of price:\n",
      "\n",
      "1. Mi Max: Full HD Display, Snapdragon 650 Processor, 3GB RAM, 32GB Storage, 4850mAh Battery, 16MP Rear Camera, 5MP Front Camera, 6.44 inch Display, Gold color, Expandable Storage up to 128GB, Rating: 4.3, Price: Rs 14999\n",
      "\n",
      "2. Redmi Y2: HD+ Display, Snapdragon 625 Processor, 3GB RAM, 32GB Storage, 3080mAh Battery, 12MP + 5MP Rear Camera, 16MP Front Camera, 5.99 inch Display, Blue color, Expandable Storage up to 256GB, Rating: 4.5, Price: Rs 10499\n",
      "\n",
      "3. Redmi Y3: HD+ Display, Snapdragon 632 Processor, 3GB RAM, 32GB Storage, 4000mAh Battery, 12MP + 2MP Rear Camera, 32MP Front Camera, 6.26 inch Display, Prime Black color, Expandable Storage up to 512GB, Rating: 4.4, Price: Rs 10290\n",
      "\n",
      "How may I assist you further with these products?\n",
      "\n"
     ]
    }
   ],
   "source": [
    "debug_recommendation = get_chat_completions(debug_conversation_reco)\n",
    "print(debug_recommendation + '\\n')"
   ]
  },
  {
   "cell_type": "markdown",
   "id": "f5bcba2a",
   "metadata": {},
   "source": [
    "Now, you can converse with the chatbot on the filtered products."
   ]
  },
  {
   "cell_type": "code",
   "execution_count": 91,
   "id": "bc752f28",
   "metadata": {},
   "outputs": [
    {
     "data": {
      "text/plain": [
       "{'Budget': 15000,\n",
       " 'Rating': 'high',\n",
       " 'RAM Size': 4,\n",
       " 'Storage': 64,\n",
       " 'Front Camera': 'medium',\n",
       " 'Rear Camera': 'high',\n",
       " 'Display Size (inch)': 5.5,\n",
       " 'Battery Life': 'low'}"
      ]
     },
     "execution_count": 91,
     "metadata": {},
     "output_type": "execute_result"
    }
   ],
   "source": [
    "response_dict_n"
   ]
  },
  {
   "cell_type": "code",
   "execution_count": 92,
   "id": "88343f8a",
   "metadata": {},
   "outputs": [],
   "source": [
    "debug_conversation_reco.append({\"role\": \"user\", \"content\": \"This is my user profile\" + str(response_dict_n)})\n",
    "debug_conversation_reco.append({\"role\": \"assistant\", \"content\": debug_recommendation})"
   ]
  },
  {
   "cell_type": "code",
   "execution_count": 93,
   "id": "e0b2dadc",
   "metadata": {},
   "outputs": [],
   "source": [
    "debug_user_input = \"Which is ideal for travel?\""
   ]
  },
  {
   "cell_type": "code",
   "execution_count": 94,
   "id": "49bdc7aa",
   "metadata": {},
   "outputs": [
    {
     "data": {
      "text/plain": [
       "'\\nBased on your user profile that prioritizes a lightweight, compact design and long battery life for travel, the ideal choice from the available options would be the **Redmi Y3**. It has a good balance of performance with Snapdragon 632 Processor, a large 4000mAh battery for longer usage on the go, and a decent 6.26 inch HD+ Display for entertainment purposes. The 32MP Front Camera is also great for capturing memorable travel moments.\\n\\nIf you have any more specific preferences or requirements for your travel needs, feel free to let me know so I can provide a more tailored recommendation.\\n'"
      ]
     },
     "metadata": {},
     "output_type": "display_data"
    }
   ],
   "source": [
    "debug_conversation_reco.append({\"role\": \"user\", \"content\": debug_user_input})\n",
    "debug_response_asst_reco = get_chat_completions(debug_conversation_reco)\n",
    "display('\\n' + debug_response_asst_reco + '\\n')"
   ]
  },
  {
   "cell_type": "markdown",
   "id": "94e2029c",
   "metadata": {},
   "source": [
    "You can repeat the process of appending the assistant and user messages and test the chatbot out."
   ]
  },
  {
   "cell_type": "markdown",
   "id": "61b3da14",
   "metadata": {},
   "source": [
    "# STAGE 4: COMBINE ALL 3 STAGE"
   ]
  },
  {
   "cell_type": "markdown",
   "id": "e1ebbc43",
   "metadata": {},
   "source": [
    "\n",
    "In this layer, we combine all the three stages that we defined above.\n",
    "\n",
    "`Stage 1` + `Stage 2` + `Stage 3`"
   ]
  },
  {
   "cell_type": "markdown",
   "id": "05fb7125",
   "metadata": {},
   "source": [
    "### 3.5 Dialogue Management System\n",
    "\n",
    "Bringing everything together, we create a `diagloue_mgmt_system()` function that contains the logic of how the different layers would interact with each other. This will be the function that we'll call to initiate the chatbot"
   ]
  },
  {
   "cell_type": "code",
   "execution_count": null,
   "id": "205c9ac5",
   "metadata": {},
   "outputs": [],
   "source": []
  },
  {
   "cell_type": "code",
   "execution_count": 95,
   "id": "5a4e4d8c",
   "metadata": {},
   "outputs": [],
   "source": [
    "def dialogue_mgmt_system():\n",
    "    conversation = initialize_conversation()\n",
    "\n",
    "    introduction = get_chat_completions(conversation)\n",
    "\n",
    "    display(introduction + '\\n')\n",
    "\n",
    "    top_3_mobiles = None\n",
    "\n",
    "    user_input = ''\n",
    "\n",
    "    while(user_input != \"exit\"):\n",
    "\n",
    "        user_input = input(\"\")\n",
    "\n",
    "        moderation = moderation_check(user_input)\n",
    "        if moderation == 'Flagged':\n",
    "            display(\"Sorry, this message has been flagged. Please restart your conversation.\")\n",
    "            break\n",
    "\n",
    "        if top_3_mobiles is None:\n",
    "\n",
    "            conversation.append({\"role\": \"user\", \"content\": user_input})\n",
    "\n",
    "            response_assistant = get_chat_completions(conversation)\n",
    "            moderation = moderation_check(response_assistant)\n",
    "            if moderation == 'Flagged':\n",
    "                display(\"Sorry, this message has been flagged. Please restart your conversation.\")\n",
    "                break\n",
    "\n",
    "\n",
    "            confirmation = intent_confirmation_layer(response_assistant)\n",
    "\n",
    "            print(\"Intent Confirmation Yes/No:\",confirmation.get('result'))\n",
    "\n",
    "            if \"No\" in confirmation.get('result'):\n",
    "                conversation.append({\"role\": \"assistant\", \"content\": str(response_assistant)})\n",
    "                print(\"\\n\" + str(response_assistant) + \"\\n\")\n",
    "\n",
    "            else:\n",
    "                print(\"\\n\" + str(response_assistant) + \"\\n\")\n",
    "                print('\\n' + \"Variables extracted!\" + '\\n')\n",
    "\n",
    "                response = dictionary_present(response_assistant)\n",
    "\n",
    "                print(\"Thank you for providing all the information. Kindly wait, while I fetch the products: \\n\")\n",
    "                top_3_mobiles = compare_mobiles_with_user(response)\n",
    "\n",
    "                # print(\"Top 3 laptops are: \\n\",top_3_laptops)\n",
    "                # for mobile in top_3_mobiles:\n",
    "                #     print(mobile)\n",
    "\n",
    "                validated_reco = recommendation_validation(top_3_mobiles)\n",
    "\n",
    "                conversation_reco = initialize_conv_reco(validated_reco)\n",
    "\n",
    "                conversation_reco.append({\"role\": \"user\", \"content\": \"This is my user profile\" + str(response)})\n",
    "\n",
    "                recommendation = get_chat_completions(conversation_reco)\n",
    "\n",
    "                moderation = moderation_check(recommendation)\n",
    "                if moderation == 'Flagged':\n",
    "                    display(\"Sorry, this message has been flagged. Please restart your conversation.\")\n",
    "                    break\n",
    "\n",
    "                conversation_reco.append({\"role\": \"assistant\", \"content\": str(recommendation)})\n",
    "\n",
    "                print(str(recommendation) + '\\n')\n",
    "        else:\n",
    "            conversation_reco.append({\"role\": \"user\", \"content\": user_input})\n",
    "\n",
    "            response_asst_reco = get_chat_completions(conversation_reco)\n",
    "\n",
    "            moderation = moderation_check(response_asst_reco)\n",
    "            if moderation == 'Flagged':\n",
    "                print(\"Sorry, this message has been flagged. Please restart your conversation.\")\n",
    "                break\n",
    "\n",
    "            print('\\n' + response_asst_reco + '\\n')\n",
    "            conversation.append({\"role\": \"assistant\", \"content\": response_asst_reco})"
   ]
  },
  {
   "cell_type": "code",
   "execution_count": 97,
   "id": "fed709ab",
   "metadata": {},
   "outputs": [
    {
     "data": {
      "text/plain": [
       "\"Hello! I'd be happy to help you find the perfect mobile phone. To start, could you tell me a bit about how you use your phone? For example, do you use it more for photography, gaming, or everyday tasks?\\n\""
      ]
     },
     "metadata": {},
     "output_type": "display_data"
    },
    {
     "name": "stdout",
     "output_type": "stream",
     "text": [
      "i want mobile phone for photography.\n",
      "Intent Confirmation Yes/No: No\n",
      "\n",
      "Hello! I'd be happy to help you find a great mobile phone for photography. Could you please share your preferences for rear and front camera quality? Additionally, do you have any specific budget in mind for the new phone?\n",
      "\n",
      "high rear camera quality and high front camera.\n",
      "Intent Confirmation Yes/No: No\n",
      "\n",
      "Great choice! High camera quality is essential for photography. Could you also share your budget range for the new mobile phone?\n",
      "\n",
      "my budget is 20000 and display size 6.5 inch \n",
      "Intent Confirmation Yes/No: No\n",
      "\n",
      "Thank you for sharing that information. Based on your requirements, I have updated the values in the dictionary:\n",
      "{\n",
      "    'Budget': 20000,\n",
      "    'Rating': '-',\n",
      "    'RAM Size': '-',\n",
      "    'Storage': '-',\n",
      "    'Rear Camera': 'high',\n",
      "    'Front Camera': 'high',\n",
      "    'Display Size (inch)': 6.5,\n",
      "    'Battery Life': '-'\n",
      "}\n",
      "\n",
      "i want mobile with high rating, long battery life.\n",
      "Intent Confirmation Yes/No: No\n",
      "\n",
      "Thank you for clarifying your preferences. Now, I have updated the values in the dictionary:\n",
      "{\n",
      "    'Budget': 20000,\n",
      "    'Rating': 'high',\n",
      "    'RAM Size': '-',\n",
      "    'Storage': '-',\n",
      "    'Rear Camera': 'high',\n",
      "    'Front Camera': 'high',\n",
      "    'Display Size (inch)': 6.5,\n",
      "    'Battery Life': 'long'\n",
      "}\n",
      "\n",
      "ram 4 gb and storage 64.\n",
      "Intent Confirmation Yes/No: Yes\n",
      "\n",
      "Thank you for providing more details. I have updated the values in the dictionary based on your requirements:\n",
      "{\n",
      "    'Budget': 20000,\n",
      "    'Rating': 'high',\n",
      "    'RAM Size': 4,\n",
      "    'Storage': 64,\n",
      "    'Rear Camera': 'high',\n",
      "    'Front Camera': 'high',\n",
      "    'Display Size (inch)': 6.5,\n",
      "    'Battery Life': 'long'\n",
      "}\n",
      "\n",
      "\n",
      "Variables extracted!\n",
      "\n",
      "Thank you for providing all the information. Kindly wait, while I fetch the products: \n",
      "\n",
      "1. Mi A3: Qualcomm Snapdragon 665 Processor, 64GB Storage, 4GB RAM, 48MP + 8MP + 2MP Rear Camera, 32MP Front Camera, 6.088-inch HD+ Display, 4030mAh Battery, Expandable Storage up to 256GB, Rating 4.3, Price: Rs 14,999\n",
      "\n",
      "2. Motorola G32: Qualcomm Snapdragon 680 Processor, 64GB Storage, 4GB RAM, 50MP + 8MP + 2MP Rear Camera, 16MP Front Camera, 6.55-inch Full HD+ Display, 5000mAh Battery, Expandable Storage up to 183.13GB, Rating: 4.3, Price: Rs 12,999\n",
      "\n",
      "Since your budget is Rs 20,000 and you prefer high ratings, this list includes the top two mobiles with the specifications that match your user profile.\n",
      "\n",
      "thank you\n",
      "\n",
      "You're welcome! If you have any more questions or need further assistance in the future, feel free to ask. Have a great day!\n",
      "\n",
      "exit\n",
      "\n",
      "If you have any more questions in the future, feel free to ask. Have a great day! Goodbye!\n",
      "\n"
     ]
    }
   ],
   "source": [
    "dialogue_mgmt_system()"
   ]
  },
  {
   "cell_type": "code",
   "execution_count": 99,
   "id": "be3ffa21",
   "metadata": {},
   "outputs": [
    {
     "data": {
      "text/plain": [
       "\"Hello! I'd be happy to help you find the perfect mobile phone. To start, could you tell me a bit about how you use your phone? For example, do you use it more for photography, gaming, or everyday tasks?\\n\""
      ]
     },
     "metadata": {},
     "output_type": "display_data"
    },
    {
     "name": "stdout",
     "output_type": "stream",
     "text": [
      "i want mobile for gaming.\n",
      "Intent Confirmation Yes/No: No\n",
      "\n",
      "Hello! I'd be happy to help you find the perfect mobile phone for gaming. To assist you better, could you please share some more details about your gaming preferences? For example, do you have any specific requirements in terms of RAM size, storage capacity, display size, and battery life for an optimal gaming experience?\n",
      "\n",
      "i prefer samsung phones with 6 gb ram and 128 gb storage\n",
      "Intent Confirmation Yes/No: No\n",
      "\n",
      "Great choice! Samsung phones are known for their quality. Based on your preference for a Samsung phone with 6GB of RAM and 128GB of storage, we can proceed with those specifications. Are you looking for any specific features in terms of display size, rear camera quality, front camera quality, battery life, or budget for the new phone? This will help me find the best options that meet your requirements for gaming.\n",
      "\n",
      "display size of 6.5 inch with long battery life.\n",
      "Intent Confirmation Yes/No: No\n",
      "\n",
      "Thank you for providing more details. Based on your requirements, we have the following information:\n",
      "- RAM Size: 6GB\n",
      "- Storage: 128GB\n",
      "- Display Size (inch): 6.5\n",
      "- Battery Life: long\n",
      "\n",
      "To proceed, could you please share your budget for the new phone? This will help me recommend the best options that fit within your budget and meet your gaming needs.\n",
      "\n",
      "my budget is 50000.\n",
      "Intent Confirmation Yes/No: No\n",
      "\n",
      "{\n",
      "    'Budget': 50000,\n",
      "    'Rating': '-',\n",
      "    'RAM Size': 6,\n",
      "    'Storage': 128,\n",
      "    'Rear Camera': '-',\n",
      "    'Front Camera': '-',\n",
      "    'Display Size (inch)': 6.5,\n",
      "    'Battery Life': 'long'\n",
      "}\n",
      "\n",
      "camera quality for both rear and front is high and with high mobile rating.\n",
      "Intent Confirmation Yes/No: Yes\n",
      "\n",
      "{\n",
      "    'Budget': 50000,\n",
      "    'Rating': 'high',\n",
      "    'RAM Size': 6,\n",
      "    'Storage': 128,\n",
      "    'Rear Camera': 'high',\n",
      "    'Front Camera': 'high',\n",
      "    'Display Size (inch)': 6.5,\n",
      "    'Battery Life': 'long'\n",
      "}\n",
      "\n",
      "\n",
      "Variables extracted!\n",
      "\n",
      "Thank you for providing all the information. Kindly wait, while I fetch the products: \n",
      "\n",
      "1. Mi A3: Qualcomm Snapdragon 665 Processor, 6.08-inch HD+ Display, 6GB RAM, 128GB Storage, 48MP + 8MP + 2MP Rear Camera, 32MP Front Camera, 4030mAh Battery, More Than White, Rating: 4.2, Price: Rs 17499\n",
      "\n",
      "2. Redmi Note 5 Pro: Qualcomm Snapdragon 636 Processor, 5.99-inch Full HD+ Display, 4GB RAM, 64GB Storage, 12MP + 5MP Rear Camera, 20MP Front Camera, 4000mAh Battery, Red, Rating: 4.5, Price: Rs 14999\n",
      "\n",
      "Based on your user profile and preferences for high specifications in terms of RAM, storage, rear camera, front camera, display size, and long battery life, the Mi A3 and Redmi Note 5 Pro are suitable options within your budget.\n",
      "\n",
      "thank you.\n",
      "\n",
      "You're welcome! If you have any more questions or need further assistance in the future, feel free to ask. Have a great day!\n",
      "\n",
      "exit.\n",
      "\n",
      "If you have any more questions in the future, feel free to ask. Have a great day! Goodbye!\n",
      "\n",
      "exit\n",
      "\n",
      "It seems like you want to end the session. If you have any more questions in the future, feel free to ask. Goodbye and take care!\n",
      "\n"
     ]
    }
   ],
   "source": [
    "dialogue_mgmt_system()"
   ]
  },
  {
   "cell_type": "code",
   "execution_count": 100,
   "id": "6567977b",
   "metadata": {},
   "outputs": [
    {
     "data": {
      "text/plain": [
       "\"Hello! I'd be happy to help you find the perfect mobile phone. To start, could you tell me a bit about how you use your phone? For example, do you use it more for photography, gaming, or everyday tasks?\\n\""
      ]
     },
     "metadata": {},
     "output_type": "display_data"
    },
    {
     "name": "stdout",
     "output_type": "stream",
     "text": [
      "i want mobile for everyday task\n",
      "Intent Confirmation Yes/No: No\n",
      "\n",
      "Hello! I'd be happy to help you find the perfect mobile phone for your everyday tasks. To assist you better, could you please provide more details about your preferences and requirements for a new mobile phone? For example, do you have any specific needs regarding camera quality, performance, storage capacity, or battery life?\n",
      "\n",
      "low rear camera and low front camera with high rating\n",
      "Intent Confirmation Yes/No: No\n",
      "\n",
      "Great! Based on your preferences for low rear and front camera quality but a high rating, I have some initial values for our dictionary:\n",
      "{\n",
      "    'Budget': -,\n",
      "    'Rating': 'high',\n",
      "    'RAM Size': -,\n",
      "    'Storage': -,\n",
      "    'Rear Camera': 'low',\n",
      "    'Front Camera': 'low',\n",
      "    'Display Size (inch)': -,\n",
      "    'Battery Life': -\n",
      "}\n",
      "Next, could you please provide information about your requirements for RAM size, storage capacity, display size, battery life, and budget? This will help us find the best options for your everyday tasks.\n",
      "\n",
      "4 gb ram and 64 gb storage with short battery life\n",
      "Intent Confirmation Yes/No: No\n",
      "\n",
      "Thank you for providing those details. Based on your requirements, here is the updated dictionary:\n",
      "{\n",
      "    'Budget': -,\n",
      "    'Rating': 'high',\n",
      "    'RAM Size': 4,\n",
      "    'Storage': 64,\n",
      "    'Rear Camera': 'low',\n",
      "    'Front Camera': 'low',\n",
      "    'Display Size (inch)': -,\n",
      "    'Battery Life': 'short'\n",
      "}\n",
      "To proceed, could you please share your preference for the budget range and any specific requirements for the display size of the mobile phone you are looking for? This will help us narrow down the options and find the best match for you.\n",
      "\n",
      "i need display size 2 inch and budget is 4000\n",
      "Intent Confirmation Yes/No: No\n",
      "\n",
      "Based on your latest inputs, here is the updated dictionary with the final values:\n",
      "{\n",
      "    'Budget': 4000,\n",
      "    'Rating': 'high',\n",
      "    'RAM Size': 4,\n",
      "    'Storage': 64,\n",
      "    'Rear Camera': 'low',\n",
      "    'Front Camera': 'low',\n",
      "    'Display Size (inch)': 2,\n",
      "    'Battery Life': 'short'\n",
      "}\n",
      "I must inform you that there are no mobile phones with a 2-inch display size available in the market. Would you consider a larger display size, or do you have any other preferences regarding the display size or budget?\n",
      "\n",
      "ok display size 5 inch\n",
      "Intent Confirmation Yes/No: Yes\n",
      "\n",
      "Great! With the updated display size of 5 inches, the final dictionary values are as follows:\n",
      "{\n",
      "    'Budget': 4000,\n",
      "    'Rating': 'high',\n",
      "    'RAM Size': 4,\n",
      "    'Storage': 64,\n",
      "    'Rear Camera': 'low',\n",
      "    'Front Camera': 'low',\n",
      "    'Display Size (inch)': 5,\n",
      "    'Battery Life': 'short'\n",
      "}\n",
      "Based on your requirements, I will search for mobile phones that match these criteria. Thank you for providing your preferences! If you have any more specific requirements or preferences, feel free to share.\n",
      "\n",
      "\n",
      "Variables extracted!\n",
      "\n",
      "Thank you for providing all the information. Kindly wait, while I fetch the products: \n",
      "\n",
      "1. LAVA Iris X5: 5.0 inch HD Display, MTK 6571 Processor, 1.0GB RAM, 8.0GB Storage, 8MP Rear Camera, 5MP Front Camera, 2100.0 mAh Battery, Expandable Storage up to 32.0GB, Rating: 4.2, Price: Rs 3999\n",
      "\n",
      "2. LAVA A48: 4.0 inch WVGA Display, SC7731C Processor, 512.0MB RAM, 8.0GB Storage, 2MP Rear Camera, 0.3MP Front Camera, 1300.0 mAh Battery, Expandable Storage up to 32.0GB, Rating: 3.5, Price: Rs 2999\n",
      "\n",
      "The LAVA Iris X5 meets most of your requirements including a 4.2 rating, 1.0GB RAM, 8MP Rear Camera, 5MP Front Camera, 5.0 inch HD Display, and a price within your budget of Rs 4000. It has a slightly lower battery life compared to your preference, but it offers good specifications overall.\n",
      "\n",
      "thank you\n",
      "\n",
      "You're welcome! If you have any more questions or need further assistance, feel free to ask. Happy to help!\n",
      "\n",
      "exit\n",
      "\n",
      "Should you have any more questions in the future, feel free to ask. Goodbye!\n",
      "\n"
     ]
    }
   ],
   "source": [
    "dialogue_mgmt_system()"
   ]
  },
  {
   "cell_type": "markdown",
   "id": "2c7b9494",
   "metadata": {},
   "source": [
    "# STAGE 5: EVALUATION"
   ]
  },
  {
   "cell_type": "code",
   "execution_count": 136,
   "id": "e0535f44",
   "metadata": {},
   "outputs": [
    {
     "name": "stdout",
     "output_type": "stream",
     "text": [
      "{'Budget': 30000, 'Rating': 'high', 'RAM Size': 4, 'Storage': 128, 'Rear Camera': 'high', 'Front Camera': 'medium', 'Display Size (inch)': 6.5, 'Battery Life': 'long'}\n"
     ]
    }
   ],
   "source": [
    "mobile_conversation = [\n",
    "    {\"role\": \"assistant\", \"content\": \"Hi there! I'm an intelligent mobile gadget expert and I'm here to help you find the best mobile phone for your needs. Please tell me a little bit about yourself and your requirements so that I can assist you better.\"},\n",
    "    {\"role\": \"user\", \"content\": \"I'm looking for a phone with a great rear camera and medium front camera and long battery life.\"},\n",
    "    {\"role\": \"assistant\", \"content\": \"Thank you for letting me know. Based on your preference for a great camera and long battery life, I would recommend a phone with medium camera quality and medium battery life. Are you also looking for a 6.5-inch display, good performance, ample RAM, and sufficient storage?\"},\n",
    "    {\"role\": \"user\", \"content\": \"Yes, I prefer a 6.5-inch display, good performance, at least 4GB of RAM, and 128GB of storage, and the rating of mobile should be high.\"},\n",
    "    {\"role\": \"assistant\", \"content\": \"Great! Now, I have one more question to help me understand your requirements better. Could you kindly let me know your budget for the mobile phone? This will help me find options that fit within your price range while meeting the specified requirements.\"},\n",
    "    {\"role\": \"user\", \"content\": \"30000\"}\n",
    "]\n",
    "\n",
    "# Initialize and extend the conversation\n",
    "mobile_conversation_initialize = initialize_conversation()\n",
    "mobile_conversation_initialize.extend(mobile_conversation)\n",
    "\n",
    "# Get assistant's output\n",
    "mobile_conversation_assistant_output = get_chat_completions(mobile_conversation_initialize)\n",
    "\n",
    "# Extract the user requirements dictionary from the assistant's output\n",
    "mobile_response_dict = dictionary_present(mobile_conversation_assistant_output)\n",
    "\n",
    "# Print the extracted dictionary\n",
    "print(mobile_response_dict)"
   ]
  },
  {
   "cell_type": "code",
   "execution_count": 137,
   "id": "9d3c4a9d",
   "metadata": {
    "scrolled": true
   },
   "outputs": [
    {
     "name": "stdout",
     "output_type": "stream",
     "text": [
      "{'Budget': 30000, 'Rating': 'high', 'RAM Size': 4, 'Storage': 128, 'Rear Camera ': 'high', 'Front Camera ': 'medium', 'Display Size (inch)': 6.5, 'Battery Life': 'long'}\n"
     ]
    }
   ],
   "source": [
    "mobile_tagged_dict = {\n",
    "    'Budget': 30000,\n",
    "    'Rating':'high',\n",
    "    'RAM Size': 4,\n",
    "    'Storage': 128,\n",
    "    'Rear Camera ': 'high',\n",
    "    'Front Camera ': 'medium',\n",
    "    'Display Size (inch)': 6.5,\n",
    "    'Battery Life': 'long'\n",
    "}\n",
    "print(mobile_tagged_dict)"
   ]
  },
  {
   "cell_type": "code",
   "execution_count": 150,
   "id": "34b612b3",
   "metadata": {},
   "outputs": [
    {
     "name": "stdout",
     "output_type": "stream",
     "text": [
      "{'Budget': 50000, 'Rating': '-', 'RAM Size': 8, 'Storage': 128, 'Rear Camera': 'Low', 'Front Camera': 'High', 'Display Size (inch)': 6.5, 'Battery Life': 'Long'}\n"
     ]
    }
   ],
   "source": [
    "business_conversation = [\n",
    "    {\"role\": \"assistant\", \"content\": \"Hi there! I'm an intelligent mobile gadget expert and I'm here to help you find the best mobile phone for your needs. Please tell me a little bit about yourself and your requirements so that I can assist you better.\"},\n",
    "    {\"role\": \"user\", \"content\": \"Hi. I am a business executive. I'm in the market to buy a mobile phone that fits my needs.\"},\n",
    "    {\"role\": \"assistant\", \"content\": \"Great! As a business executive, having a reliable and efficient mobile phone is crucial for your work. May I know what kind of tasks you primarily focus on? Are you involved in tasks such as attending Zoom calls, preparing reports, or multitasking between various applications? Understanding your specific work requirements will help me recommend the best mobile phone for you.\"},\n",
    "    {\"role\": \"user\", \"content\": \"I'll use my phone for day-to-day work such as attending Zoom calls with clients, preparing reports, and doing market research. I also do analysis on Excel.\"},\n",
    "    {\"role\": \"assistant\", \"content\": \"Thank you for providing that information. Based on your work requirements, it seems like you need a mobile phone that can handle multitasking, has good processing speed, and a decent display quality for presentations and data analysis. Do you have any specific preferences or requirements for the camera quality or battery life?\"},\n",
    "    {\"role\": \"user\", \"content\": \"I require a mobile phone with excellent portability as I'll be commuting to work and also travelling to client locations. rear Camera quality is not a priority for me but i need good front camera. also iprefer ram size 8gb and storage of 128 gb with displaysize of 6.5 inch\"},\n",
    "    {\"role\": \"assistant\", \"content\": \"Understood. In that case, a mobile phone with high portability and multitasking capabilities would be ideal for you. Since camera quality is not a priority, we can focus more on performance and battery life. Do you have any specific budget in mind for your mobile phone purchase? Knowing your budget will help me find options that fit within your price range while meeting your specified requirements.\"},\n",
    "    {\"role\": \"user\", \"content\": \"No, budget is not a constraint. Choose the best .\"},\n",
    "    {\"role\": \"assistant\", \"content\": \"Thank you for letting me know. In that case, I will recommend a mobile phone with high performance, good battery life, and excellent portability. This will ensure that you can efficiently handle your day-to-day work tasks, attend Zoom calls, prepare reports, and perform market research without any performance issues. Here are the specifications for the mobile phone I recommend for you: - Camera quality: Low - Battery life: Long - Display quality: High - Portability: High - Performance: High - Storage capacity: Large - Budget: Not specified. Please note that the budget is not specified as you mentioned that it is not a constraint. However, if you have any specific budget in mind, please let me know and I can provide you with more tailored recommendations.\"},\n",
    "    {\"role\": \"user\", \"content\": \"Okay. Maximum 50000.\"}\n",
    "]\n",
    "\n",
    "business_conversation_initialize = initialize_conversation()\n",
    "business_conversation_initialize.extend(business_conversation)\n",
    "business_conversation_assistant_output = get_chat_completions(business_conversation_initialize)\n",
    "business_response_dict = dictionary_present(business_conversation_assistant_output)\n",
    "print(business_response_dict)"
   ]
  },
  {
   "cell_type": "code",
   "execution_count": 151,
   "id": "9a10483c",
   "metadata": {},
   "outputs": [
    {
     "name": "stdout",
     "output_type": "stream",
     "text": [
      "{'Budget': 50000, 'Rating': 'high', 'RAM Size': 8, 'Storage': 128, 'Rear Camera ': 'low', 'Front Camera ': 'high', 'Display Size (inch)': 6.5, 'Battery Life': 'long'}\n"
     ]
    }
   ],
   "source": [
    "business_tagged_dict = {\n",
    "    'Budget': 50000,\n",
    "    'Rating':'high',\n",
    "    'RAM Size': 8,\n",
    "    'Storage': 128,\n",
    "    'Rear Camera ': 'low',\n",
    "    'Front Camera ': 'high',\n",
    "    'Display Size (inch)': 6.5,\n",
    "    'Battery Life': 'long'\n",
    "}\n",
    "print(business_tagged_dict)"
   ]
  },
  {
   "cell_type": "code",
   "execution_count": 152,
   "id": "e4cd9aad",
   "metadata": {},
   "outputs": [],
   "source": [
    "def evaluate_model_response(tagged_dict, model_dict):\n",
    "    score = 0\n",
    "    mappings = {\n",
    "        'low': 0,\n",
    "        'medium': 1,\n",
    "        'high': 2,\n",
    "        'long': 2,  # Assuming 'long' corresponds to 'high'\n",
    "        'short': 0  # Assuming 'short' corresponds to 'low'\n",
    "    }\n",
    "\n",
    "    for key in tagged_dict.keys():\n",
    "        if key.lower() == 'budget':\n",
    "            continue\n",
    "        \n",
    "        tagged_value = tagged_dict[key]\n",
    "        model_value = model_dict.get(key, None)\n",
    "        \n",
    "        if model_value is not None:\n",
    "            tagged_mapping = mappings.get(tagged_value, -1)\n",
    "            model_mapping = mappings.get(model_value, -1)\n",
    "        \n",
    "            if model_mapping >= tagged_mapping:\n",
    "                score += 1\n",
    "        else:\n",
    "            # Handle cases where key is missing in model_dict\n",
    "            # You might choose to penalize or handle this differently based on your needs\n",
    "            pass\n",
    "\n",
    "    return score"
   ]
  },
  {
   "cell_type": "code",
   "execution_count": 153,
   "id": "9e4d50e6",
   "metadata": {
    "scrolled": true
   },
   "outputs": [
    {
     "name": "stdout",
     "output_type": "stream",
     "text": [
      "5\n",
      "3\n"
     ]
    }
   ],
   "source": [
    "mobile_score = evaluate_model_response(mobile_tagged_dict,mobile_response_dict)\n",
    "print(mobile_score)\n",
    "\n",
    "business_score = evaluate_model_response(business_tagged_dict,business_response_dict)\n",
    "print(business_score)"
   ]
  },
  {
   "cell_type": "code",
   "execution_count": 154,
   "id": "f9a8686e",
   "metadata": {},
   "outputs": [
    {
     "name": "stdout",
     "output_type": "stream",
     "text": [
      "Mobile Score: 5\n",
      "Business Score: 3\n"
     ]
    }
   ],
   "source": [
    "mobile_score = evaluate_model_response(mobile_tagged_dict, mobile_response_dict)\n",
    "print(\"Mobile Score:\", mobile_score)\n",
    "\n",
    "\n",
    "business_score = evaluate_model_response(business_tagged_dict, business_response_dict)\n",
    "print(\"Business Score:\", business_score)"
   ]
  },
  {
   "cell_type": "code",
   "execution_count": null,
   "id": "20790bb2",
   "metadata": {},
   "outputs": [],
   "source": []
  },
  {
   "cell_type": "code",
   "execution_count": null,
   "id": "3bc5e9f9",
   "metadata": {},
   "outputs": [],
   "source": []
  }
 ],
 "metadata": {
  "kernelspec": {
   "display_name": "Python 3 (ipykernel)",
   "language": "python",
   "name": "python3"
  },
  "language_info": {
   "codemirror_mode": {
    "name": "ipython",
    "version": 3
   },
   "file_extension": ".py",
   "mimetype": "text/x-python",
   "name": "python",
   "nbconvert_exporter": "python",
   "pygments_lexer": "ipython3",
   "version": "3.11.3"
  }
 },
 "nbformat": 4,
 "nbformat_minor": 5
}
